{
 "cells": [
  {
   "cell_type": "code",
   "execution_count": 1,
   "id": "da40d63b",
   "metadata": {},
   "outputs": [
    {
     "name": "stdout",
     "output_type": "stream",
     "text": [
      "20.0\n"
     ]
    }
   ],
   "source": [
    "res=10+20/4*2\n",
    "print(res)"
   ]
  },
  {
   "cell_type": "code",
   "execution_count": 2,
   "id": "de344b4c",
   "metadata": {},
   "outputs": [
    {
     "name": "stdout",
     "output_type": "stream",
     "text": [
      "5.0\n"
     ]
    }
   ],
   "source": [
    "print(20/4)"
   ]
  },
  {
   "cell_type": "code",
   "execution_count": 3,
   "id": "fcacc18d",
   "metadata": {},
   "outputs": [
    {
     "name": "stdout",
     "output_type": "stream",
     "text": [
      "20.0\n"
     ]
    }
   ],
   "source": [
    "res=10+5.0*2\n",
    "print(res)"
   ]
  },
  {
   "cell_type": "code",
   "execution_count": 4,
   "id": "0a90262e",
   "metadata": {},
   "outputs": [
    {
     "name": "stdout",
     "output_type": "stream",
     "text": [
      "15.0\n"
     ]
    }
   ],
   "source": [
    "res=(10+20)/4*2\n",
    "print(res)"
   ]
  },
  {
   "cell_type": "code",
   "execution_count": 5,
   "id": "fbb69e14",
   "metadata": {},
   "outputs": [
    {
     "name": "stdout",
     "output_type": "stream",
     "text": [
      "7.5\n"
     ]
    }
   ],
   "source": [
    "print(30/4)"
   ]
  },
  {
   "cell_type": "code",
   "execution_count": 6,
   "id": "b8cd55d8",
   "metadata": {},
   "outputs": [
    {
     "data": {
      "text/plain": [
       "15.0"
      ]
     },
     "execution_count": 6,
     "metadata": {},
     "output_type": "execute_result"
    }
   ],
   "source": [
    "7.5*2"
   ]
  },
  {
   "cell_type": "code",
   "execution_count": 7,
   "id": "25b8d2b0",
   "metadata": {},
   "outputs": [
    {
     "name": "stdout",
     "output_type": "stream",
     "text": [
      "100\n"
     ]
    }
   ],
   "source": [
    "print(10+20+30+40)#100, "
   ]
  },
  {
   "cell_type": "code",
   "execution_count": 8,
   "id": "7e9cb299",
   "metadata": {},
   "outputs": [
    {
     "name": "stdout",
     "output_type": "stream",
     "text": [
      "0.00041666666666666664\n"
     ]
    }
   ],
   "source": [
    "print(10/20/30/40)#"
   ]
  },
  {
   "cell_type": "code",
   "execution_count": 9,
   "id": "e08e3d78",
   "metadata": {},
   "outputs": [
    {
     "data": {
      "text/plain": [
       "0.5"
      ]
     },
     "execution_count": 9,
     "metadata": {},
     "output_type": "execute_result"
    }
   ],
   "source": [
    "10/20"
   ]
  },
  {
   "cell_type": "code",
   "execution_count": 10,
   "id": "8026d45a",
   "metadata": {},
   "outputs": [
    {
     "data": {
      "text/plain": [
       "0.016666666666666666"
      ]
     },
     "execution_count": 10,
     "metadata": {},
     "output_type": "execute_result"
    }
   ],
   "source": [
    "0.5/30"
   ]
  },
  {
   "cell_type": "code",
   "execution_count": 11,
   "id": "1413d075",
   "metadata": {},
   "outputs": [
    {
     "data": {
      "text/plain": [
       "0.000415"
      ]
     },
     "execution_count": 11,
     "metadata": {},
     "output_type": "execute_result"
    }
   ],
   "source": [
    "0.0166/40"
   ]
  },
  {
   "cell_type": "code",
   "execution_count": 12,
   "id": "64daae6b",
   "metadata": {},
   "outputs": [],
   "source": [
    "#/ division operator evaluating left to RIGHT"
   ]
  },
  {
   "cell_type": "code",
   "execution_count": 13,
   "id": "76be2ec5",
   "metadata": {},
   "outputs": [
    {
     "name": "stdout",
     "output_type": "stream",
     "text": [
      "0.375\n"
     ]
    }
   ],
   "source": [
    "print(10/(20/(30/40)))#"
   ]
  },
  {
   "cell_type": "code",
   "execution_count": 14,
   "id": "751a7499",
   "metadata": {},
   "outputs": [
    {
     "data": {
      "text/plain": [
       "0.75"
      ]
     },
     "execution_count": 14,
     "metadata": {},
     "output_type": "execute_result"
    }
   ],
   "source": [
    "30/40"
   ]
  },
  {
   "cell_type": "code",
   "execution_count": 15,
   "id": "a061b502",
   "metadata": {},
   "outputs": [
    {
     "data": {
      "text/plain": [
       "26.666666666666668"
      ]
     },
     "execution_count": 15,
     "metadata": {},
     "output_type": "execute_result"
    }
   ],
   "source": [
    "20/0.75"
   ]
  },
  {
   "cell_type": "code",
   "execution_count": 16,
   "id": "0230c019",
   "metadata": {},
   "outputs": [
    {
     "data": {
      "text/plain": [
       "0.37500093750234376"
      ]
     },
     "execution_count": 16,
     "metadata": {},
     "output_type": "execute_result"
    }
   ],
   "source": [
    "10/26.6666"
   ]
  },
  {
   "cell_type": "code",
   "execution_count": null,
   "id": "02c17bea",
   "metadata": {},
   "outputs": [],
   "source": []
  }
 ],
 "metadata": {
  "kernelspec": {
   "display_name": "Python 3 (ipykernel)",
   "language": "python",
   "name": "python3"
  },
  "language_info": {
   "codemirror_mode": {
    "name": "ipython",
    "version": 3
   },
   "file_extension": ".py",
   "mimetype": "text/x-python",
   "name": "python",
   "nbconvert_exporter": "python",
   "pygments_lexer": "ipython3",
   "version": "3.11.3"
  }
 },
 "nbformat": 4,
 "nbformat_minor": 5
}
