{
 "cells": [
  {
   "cell_type": "code",
   "execution_count": 3,
   "id": "301b1392",
   "metadata": {},
   "outputs": [
    {
     "name": "stdout",
     "output_type": "stream",
     "text": [
      "1\n",
      "3\n",
      "a=10,b=20\n",
      "result= 30\n",
      "hi\n",
      "hello\n",
      "a=100,b=200\n",
      "result= 300\n",
      "5\n",
      "6\n",
      "a=1000,b=2000\n",
      "result= 3000\n"
     ]
    }
   ],
   "source": [
    "print(\"1\")\n",
    "print(\"3\")\n",
    "a=10\n",
    "b=20\n",
    "print(f\"a={a},b={b}\")\n",
    "res=a+b\n",
    "print(\"result=\",res)\n",
    "print(\"hi\")\n",
    "print(\"hello\")\n",
    "x=100\n",
    "y=200\n",
    "print(f\"a={x},b={y}\")\n",
    "res=x+y\n",
    "print(\"result=\",res)\n",
    "print(\"5\")\n",
    "print(\"6\")\n",
    "x=1000\n",
    "y=2000\n",
    "print(f\"a={x},b={y}\")\n",
    "res=x+y\n",
    "print(\"result=\",res)\n"
   ]
  },
  {
   "cell_type": "code",
   "execution_count": 2,
   "id": "5965ba40",
   "metadata": {},
   "outputs": [
    {
     "name": "stdout",
     "output_type": "stream",
     "text": [
      "1\n",
      "3\n",
      "a=10,b=20\n",
      "result= 30\n",
      "hi\n",
      "hello\n",
      "a=100,b=200\n",
      "result= 300\n",
      "5\n",
      "6\n",
      "a=1000,b=2000\n",
      "result= 3000\n"
     ]
    }
   ],
   "source": [
    "def fun(a,b):\n",
    "    print(f\"a={a},b={b}\")\n",
    "    res=a+b\n",
    "    print(\"result=\",res)\n",
    "    \n",
    "print(\"1\")\n",
    "print(\"3\")\n",
    "fun(10,20)\n",
    "print(\"hi\")\n",
    "print(\"hello\")\n",
    "fun(100,200)\n",
    "print(\"5\")\n",
    "print(\"6\")\n",
    "fun(1000,2000)\n"
   ]
  },
  {
   "cell_type": "code",
   "execution_count": 4,
   "id": "690ea687",
   "metadata": {},
   "outputs": [
    {
     "name": "stdout",
     "output_type": "stream",
     "text": [
      "BANGLORE\n",
      "HYd\n"
     ]
    }
   ],
   "source": [
    "print(\"BANGLORE\")\n",
    "def hi_12():\n",
    "    print(\"HELLO\")\n",
    "    print(\"HI\")\n",
    "print(\"HYd\")"
   ]
  },
  {
   "cell_type": "code",
   "execution_count": 5,
   "id": "607e9a90",
   "metadata": {},
   "outputs": [
    {
     "name": "stdout",
     "output_type": "stream",
     "text": [
      "BANGLORE\n",
      "HYd\n",
      "HELLO\n",
      "HI\n",
      "1\n"
     ]
    }
   ],
   "source": [
    "print(\"BANGLORE\")\n",
    "def hi_12():\n",
    "    print(\"HELLO\")\n",
    "    print(\"HI\")\n",
    "print(\"HYd\")\n",
    "hi_12()\n",
    "print(\"1\")"
   ]
  },
  {
   "cell_type": "code",
   "execution_count": 6,
   "id": "9990bc37",
   "metadata": {},
   "outputs": [
    {
     "name": "stdout",
     "output_type": "stream",
     "text": [
      "BANGLORE\n",
      "HYd\n",
      "HELLO\n",
      "HI\n",
      "1\n",
      "HELLO\n",
      "HI\n",
      "2\n"
     ]
    }
   ],
   "source": [
    "print(\"BANGLORE\")\n",
    "def hi_12():\n",
    "    print(\"HELLO\")\n",
    "    print(\"HI\")\n",
    "print(\"HYd\")\n",
    "hi_12()\n",
    "print(\"1\")\n",
    "hi_12()\n",
    "print(\"2\")"
   ]
  },
  {
   "cell_type": "code",
   "execution_count": 7,
   "id": "917f1a93",
   "metadata": {},
   "outputs": [
    {
     "name": "stdout",
     "output_type": "stream",
     "text": [
      "BANGLORE\n",
      "HYd\n",
      "HELLO\n",
      "HI\n",
      "HELLO\n",
      "HI\n"
     ]
    }
   ],
   "source": [
    "print(\"BANGLORE\")\n",
    "def hi_12():\n",
    "    print(\"HELLO\")\n",
    "    print(\"HI\")\n",
    "print(\"HYd\")\n",
    "hi_12()\n",
    "hi_12()"
   ]
  },
  {
   "cell_type": "code",
   "execution_count": 8,
   "id": "050a129c",
   "metadata": {},
   "outputs": [
    {
     "name": "stdout",
     "output_type": "stream",
     "text": [
      "HI\n",
      "x=10, y=20\n",
      "result= 30\n",
      "HELLO\n",
      "x=100, y=200\n",
      "result= 300\n"
     ]
    }
   ],
   "source": [
    "def add(x,y):  #x,y are parameters\n",
    "    print(f\"x={x}, y={y}\")\n",
    "    res=x+y\n",
    "    print(\"result=\",res)\n",
    "print(\"HI\")\n",
    "add(10,20)# function call: 10,20 arguments.  positional arguments.\n",
    "print(\"HELLO\")\n",
    "add(100,200)"
   ]
  },
  {
   "cell_type": "code",
   "execution_count": 9,
   "id": "1fb146f5",
   "metadata": {},
   "outputs": [
    {
     "name": "stdout",
     "output_type": "stream",
     "text": [
      "HI\n",
      "x=20, y=10\n",
      "result= 30\n",
      "HELLO\n",
      "x=100, y=200\n",
      "result= 300\n"
     ]
    }
   ],
   "source": [
    "def add(x,y):  #x,y are parameters\n",
    "    print(f\"x={x}, y={y}\")\n",
    "    res=x+y\n",
    "    print(\"result=\",res)\n",
    "print(\"HI\")\n",
    "add(y=10,x=20)# function call: 10,20 arguments.  keyword arguments.\n",
    "print(\"HELLO\")\n",
    "add(x=100,y=200)"
   ]
  },
  {
   "cell_type": "code",
   "execution_count": 10,
   "id": "770591d2",
   "metadata": {},
   "outputs": [
    {
     "ename": "TypeError",
     "evalue": "add() takes 2 positional arguments but 3 were given",
     "output_type": "error",
     "traceback": [
      "\u001b[1;31m---------------------------------------------------------------------------\u001b[0m",
      "\u001b[1;31mTypeError\u001b[0m                                 Traceback (most recent call last)",
      "Cell \u001b[1;32mIn[10], line 5\u001b[0m\n\u001b[0;32m      3\u001b[0m     res\u001b[38;5;241m=\u001b[39mx\u001b[38;5;241m+\u001b[39my\n\u001b[0;32m      4\u001b[0m     \u001b[38;5;28mprint\u001b[39m(\u001b[38;5;124m\"\u001b[39m\u001b[38;5;124mresult=\u001b[39m\u001b[38;5;124m\"\u001b[39m,res)\n\u001b[1;32m----> 5\u001b[0m add(\u001b[38;5;241m10\u001b[39m,\u001b[38;5;241m20\u001b[39m,\u001b[38;5;241m30\u001b[39m)\n",
      "\u001b[1;31mTypeError\u001b[0m: add() takes 2 positional arguments but 3 were given"
     ]
    }
   ],
   "source": [
    "def add(x,y):  #x,y are parameters\n",
    "    print(f\"x={x}, y={y}\")\n",
    "    res=x+y\n",
    "    print(\"result=\",res)\n",
    "add(10,20,30)"
   ]
  },
  {
   "cell_type": "code",
   "execution_count": 11,
   "id": "432d4a99",
   "metadata": {},
   "outputs": [
    {
     "ename": "TypeError",
     "evalue": "add() missing 1 required positional argument: 'y'",
     "output_type": "error",
     "traceback": [
      "\u001b[1;31m---------------------------------------------------------------------------\u001b[0m",
      "\u001b[1;31mTypeError\u001b[0m                                 Traceback (most recent call last)",
      "Cell \u001b[1;32mIn[11], line 5\u001b[0m\n\u001b[0;32m      3\u001b[0m     res\u001b[38;5;241m=\u001b[39mx\u001b[38;5;241m+\u001b[39my\n\u001b[0;32m      4\u001b[0m     \u001b[38;5;28mprint\u001b[39m(\u001b[38;5;124m\"\u001b[39m\u001b[38;5;124mresult=\u001b[39m\u001b[38;5;124m\"\u001b[39m,res)\n\u001b[1;32m----> 5\u001b[0m add(\u001b[38;5;241m10\u001b[39m)\n",
      "\u001b[1;31mTypeError\u001b[0m: add() missing 1 required positional argument: 'y'"
     ]
    }
   ],
   "source": [
    "def add(x,y):  #x,y are parameters\n",
    "    print(f\"x={x}, y={y}\")\n",
    "    res=x+y\n",
    "    print(\"result=\",res)\n",
    "add(10)"
   ]
  },
  {
   "cell_type": "code",
   "execution_count": 12,
   "id": "23b16c1c",
   "metadata": {},
   "outputs": [
    {
     "ename": "TypeError",
     "evalue": "add() got multiple values for argument 'x'",
     "output_type": "error",
     "traceback": [
      "\u001b[1;31m---------------------------------------------------------------------------\u001b[0m",
      "\u001b[1;31mTypeError\u001b[0m                                 Traceback (most recent call last)",
      "Cell \u001b[1;32mIn[12], line 5\u001b[0m\n\u001b[0;32m      3\u001b[0m     res\u001b[38;5;241m=\u001b[39mx\u001b[38;5;241m+\u001b[39my\n\u001b[0;32m      4\u001b[0m     \u001b[38;5;28mprint\u001b[39m(\u001b[38;5;124m\"\u001b[39m\u001b[38;5;124mresult=\u001b[39m\u001b[38;5;124m\"\u001b[39m,res)\n\u001b[1;32m----> 5\u001b[0m add(\u001b[38;5;241m10\u001b[39m,y\u001b[38;5;241m=\u001b[39m\u001b[38;5;241m20\u001b[39m,x\u001b[38;5;241m=\u001b[39m\u001b[38;5;241m100\u001b[39m)\n",
      "\u001b[1;31mTypeError\u001b[0m: add() got multiple values for argument 'x'"
     ]
    }
   ],
   "source": [
    "def add(x,y):  #x,y are parameters\n",
    "    print(f\"x={x}, y={y}\")\n",
    "    res=x+y\n",
    "    print(\"result=\",res)\n",
    "add(10,y=20,x=100)"
   ]
  },
  {
   "cell_type": "code",
   "execution_count": 13,
   "id": "408d6144",
   "metadata": {},
   "outputs": [
    {
     "name": "stdout",
     "output_type": "stream",
     "text": [
      "x=10, y=20\n",
      "result= 30\n"
     ]
    }
   ],
   "source": [
    "def add(x,y):  #x,y are parameters\n",
    "    print(f\"x={x}, y={y}\")\n",
    "    res=x+y\n",
    "    print(\"result=\",res)\n",
    "add(10,y=20)"
   ]
  },
  {
   "cell_type": "code",
   "execution_count": 14,
   "id": "02895f72",
   "metadata": {},
   "outputs": [
    {
     "name": "stdout",
     "output_type": "stream",
     "text": [
      "a=10,b=0,c=0,d=0\n",
      "a=10,b=20,c=30,d=0\n",
      "a=10,b=20,c=30,d=40\n",
      "a=10,b=20,c=0,d=0\n"
     ]
    }
   ],
   "source": [
    "# define a function which takes one or two or three or four number of arguments.\n",
    "def add(a,b=0,c=0,d=0):# a is mandatory. b,c,d are optional parameters\n",
    "    print(f\"a={a},b={b},c={c},d={d}\")\n",
    "add(10)\n",
    "add(10,20,30)\n",
    "add(10,20,30,40)\n",
    "add(10,20)"
   ]
  },
  {
   "cell_type": "code",
   "execution_count": 15,
   "id": "baeceef5",
   "metadata": {},
   "outputs": [
    {
     "name": "stdout",
     "output_type": "stream",
     "text": [
      "a=10,b=0,c=0,d=0\n",
      "a=20,b=30,c=0,d=10\n",
      "a=40,b=30,c=10,d=20\n",
      "a=10,b=0,c=0,d=20\n"
     ]
    }
   ],
   "source": [
    "# define a function which takes one or two or three or four number of arguments.\n",
    "def add(a,b=0,c=0,d=0):# a is mandatory. b,c,d are optional parameters\n",
    "    print(f\"a={a},b={b},c={c},d={d}\")\n",
    "add(10)\n",
    "add(d=10,a=20,b=30)\n",
    "add(c=10,d=20,b=30,a=40)\n",
    "add(10,d=20)"
   ]
  },
  {
   "cell_type": "code",
   "execution_count": null,
   "id": "7a136804",
   "metadata": {},
   "outputs": [],
   "source": []
  }
 ],
 "metadata": {
  "kernelspec": {
   "display_name": "Python 3 (ipykernel)",
   "language": "python",
   "name": "python3"
  },
  "language_info": {
   "codemirror_mode": {
    "name": "ipython",
    "version": 3
   },
   "file_extension": ".py",
   "mimetype": "text/x-python",
   "name": "python",
   "nbconvert_exporter": "python",
   "pygments_lexer": "ipython3",
   "version": "3.11.3"
  }
 },
 "nbformat": 4,
 "nbformat_minor": 5
}
