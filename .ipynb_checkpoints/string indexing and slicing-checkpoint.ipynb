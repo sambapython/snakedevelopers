{
 "cells": [
  {
   "cell_type": "code",
   "execution_count": 1,
   "id": "88d892ac",
   "metadata": {},
   "outputs": [
    {
     "name": "stdout",
     "output_type": "stream",
     "text": [
      "p\n",
      "n\n"
     ]
    }
   ],
   "source": [
    "s=\"python\"\n",
    "print(s[0])\n",
    "print(s[-1])"
   ]
  },
  {
   "cell_type": "code",
   "execution_count": 2,
   "id": "0d5da027",
   "metadata": {},
   "outputs": [
    {
     "name": "stdout",
     "output_type": "stream",
     "text": [
      "n\n",
      "n\n"
     ]
    }
   ],
   "source": [
    "s=\"python\"\n",
    "print(s[5])\n",
    "print(s[-1])"
   ]
  },
  {
   "cell_type": "code",
   "execution_count": 3,
   "id": "7d7df221",
   "metadata": {},
   "outputs": [
    {
     "ename": "IndexError",
     "evalue": "string index out of range",
     "output_type": "error",
     "traceback": [
      "\u001b[1;31m---------------------------------------------------------------------------\u001b[0m",
      "\u001b[1;31mIndexError\u001b[0m                                Traceback (most recent call last)",
      "Cell \u001b[1;32mIn[3], line 2\u001b[0m\n\u001b[0;32m      1\u001b[0m s\u001b[38;5;241m=\u001b[39m\u001b[38;5;124m\"\u001b[39m\u001b[38;5;124mpython\u001b[39m\u001b[38;5;124m\"\u001b[39m\n\u001b[1;32m----> 2\u001b[0m \u001b[38;5;28mprint\u001b[39m(s[\u001b[38;5;241m6\u001b[39m])\n",
      "\u001b[1;31mIndexError\u001b[0m: string index out of range"
     ]
    }
   ],
   "source": [
    "s=\"python\"\n",
    "print(s[6])"
   ]
  },
  {
   "cell_type": "code",
   "execution_count": 4,
   "id": "331135fa",
   "metadata": {},
   "outputs": [
    {
     "name": "stdout",
     "output_type": "stream",
     "text": [
      "p\n"
     ]
    }
   ],
   "source": [
    "s=\"python\"\n",
    "print(s[-6])"
   ]
  },
  {
   "cell_type": "code",
   "execution_count": 5,
   "id": "9867a394",
   "metadata": {},
   "outputs": [
    {
     "ename": "IndexError",
     "evalue": "string index out of range",
     "output_type": "error",
     "traceback": [
      "\u001b[1;31m---------------------------------------------------------------------------\u001b[0m",
      "\u001b[1;31mIndexError\u001b[0m                                Traceback (most recent call last)",
      "Cell \u001b[1;32mIn[5], line 2\u001b[0m\n\u001b[0;32m      1\u001b[0m s\u001b[38;5;241m=\u001b[39m\u001b[38;5;124m\"\u001b[39m\u001b[38;5;124mpython\u001b[39m\u001b[38;5;124m\"\u001b[39m\n\u001b[1;32m----> 2\u001b[0m \u001b[38;5;28mprint\u001b[39m(s[\u001b[38;5;241m-\u001b[39m\u001b[38;5;241m7\u001b[39m])\n",
      "\u001b[1;31mIndexError\u001b[0m: string index out of range"
     ]
    }
   ],
   "source": [
    "s=\"python\"\n",
    "print(s[-7])"
   ]
  },
  {
   "cell_type": "code",
   "execution_count": 6,
   "id": "5a221d96",
   "metadata": {},
   "outputs": [
    {
     "name": "stdout",
     "output_type": "stream",
     "text": [
      "H Y D\n"
     ]
    }
   ],
   "source": [
    "s=\"HYDERABAD\"\n",
    "print(s[0],s[1],s[2])"
   ]
  },
  {
   "cell_type": "code",
   "execution_count": 7,
   "id": "b1019041",
   "metadata": {},
   "outputs": [
    {
     "name": "stdout",
     "output_type": "stream",
     "text": [
      "HYD\n"
     ]
    }
   ],
   "source": [
    "s=\"HYDERABAD\"\n",
    "print(s[0]+s[1]+s[2])"
   ]
  },
  {
   "cell_type": "code",
   "execution_count": 8,
   "id": "9d83c121",
   "metadata": {},
   "outputs": [
    {
     "name": "stdout",
     "output_type": "stream",
     "text": [
      "HYD\n"
     ]
    }
   ],
   "source": [
    "s=\"HYDERABAD\"\n",
    "print(s[0:3])# "
   ]
  },
  {
   "cell_type": "code",
   "execution_count": 9,
   "id": "684a28d4",
   "metadata": {},
   "outputs": [
    {
     "name": "stdout",
     "output_type": "stream",
     "text": [
      "HYD\n",
      "9\n"
     ]
    }
   ],
   "source": [
    "s=\"HYDERABAD\"\n",
    "print(s[0:3])# \n",
    "print(len(s))"
   ]
  },
  {
   "cell_type": "code",
   "execution_count": 10,
   "id": "c2fbf99f",
   "metadata": {},
   "outputs": [
    {
     "name": "stdout",
     "output_type": "stream",
     "text": [
      "HYDERABA\n"
     ]
    }
   ],
   "source": [
    "s=\"HYDERABAD\"\n",
    "print(s[0:8])"
   ]
  },
  {
   "cell_type": "code",
   "execution_count": 11,
   "id": "601434f0",
   "metadata": {},
   "outputs": [
    {
     "name": "stdout",
     "output_type": "stream",
     "text": [
      "HDRB\n"
     ]
    }
   ],
   "source": [
    "s=\"HYDERABAD\"\n",
    "print(s[0:8:2])#HDRB"
   ]
  },
  {
   "cell_type": "code",
   "execution_count": 12,
   "id": "cb869220",
   "metadata": {},
   "outputs": [
    {
     "name": "stdout",
     "output_type": "stream",
     "text": [
      "\n"
     ]
    }
   ],
   "source": [
    "s=\"HYDERABAD\"\n",
    "print(s[8:0])"
   ]
  },
  {
   "cell_type": "code",
   "execution_count": 13,
   "id": "978af9ff",
   "metadata": {},
   "outputs": [
    {
     "name": "stdout",
     "output_type": "stream",
     "text": [
      "RABA\n"
     ]
    }
   ],
   "source": [
    "s=\"HYDERABAD\"\n",
    "print(s[4:8])# the direction decided by step value: +ve towards right, -ve towards left: stepvalue: +1\n",
    "# DIRECTION: towards right\n",
    "# does the range possible: yes"
   ]
  },
  {
   "cell_type": "code",
   "execution_count": 14,
   "id": "393d1fec",
   "metadata": {},
   "outputs": [
    {
     "name": "stdout",
     "output_type": "stream",
     "text": [
      "\n"
     ]
    }
   ],
   "source": [
    "s=\"HYDERABAD\"\n",
    "print(s[6:4])# the direction decided by step value: +ve towards right, -ve towards left: stepvalue: +1\n",
    "# DIRECTION: towards right\n",
    "# does the range possible: NO"
   ]
  },
  {
   "cell_type": "code",
   "execution_count": 15,
   "id": "67ed24a4",
   "metadata": {},
   "outputs": [
    {
     "name": "stdout",
     "output_type": "stream",
     "text": [
      "\n"
     ]
    }
   ],
   "source": [
    "s=\"HYDERABAD\"\n",
    "print(s[8:4])# the direction decided by step value: +ve towards right, -ve towards left: stepvalue: +1\n",
    "# DIRECTION: towards right\n",
    "# does the range possible: NO"
   ]
  },
  {
   "cell_type": "code",
   "execution_count": 16,
   "id": "f0304676",
   "metadata": {},
   "outputs": [
    {
     "name": "stdout",
     "output_type": "stream",
     "text": [
      "DABA\n"
     ]
    }
   ],
   "source": [
    "s=\"HYDERABAD\"\n",
    "print(s[8:4:-1])# the direction decided by step value: +ve towards right, -ve towards left: stepvalue: -1\n",
    "# DIRECTION: towards left\n",
    "# does the range possible: YES"
   ]
  },
  {
   "cell_type": "code",
   "execution_count": 17,
   "id": "d65e97d2",
   "metadata": {},
   "outputs": [
    {
     "name": "stdout",
     "output_type": "stream",
     "text": [
      "\n"
     ]
    }
   ],
   "source": [
    "s=\"HYDERABAD\"\n",
    "print(s[-1:2])"
   ]
  },
  {
   "cell_type": "code",
   "execution_count": 18,
   "id": "4a6df851",
   "metadata": {},
   "outputs": [
    {
     "name": "stdout",
     "output_type": "stream",
     "text": [
      "\n"
     ]
    }
   ],
   "source": [
    "s=\"HYDERABAD\"\n",
    "print(s[-1:-6])# step value: +1"
   ]
  },
  {
   "cell_type": "code",
   "execution_count": 19,
   "id": "d7a9ca30",
   "metadata": {},
   "outputs": [
    {
     "name": "stdout",
     "output_type": "stream",
     "text": [
      "YD\n"
     ]
    }
   ],
   "source": [
    "s=\"HYDERABAD\"\n",
    "print(s[1:-6])# step value: +1"
   ]
  },
  {
   "cell_type": "code",
   "execution_count": 20,
   "id": "b1ef2008",
   "metadata": {},
   "outputs": [
    {
     "name": "stdout",
     "output_type": "stream",
     "text": [
      "\n"
     ]
    }
   ],
   "source": [
    "s=\"HYDERABAD\"\n",
    "print(s[-1:-6])# step value: +1"
   ]
  },
  {
   "cell_type": "code",
   "execution_count": 21,
   "id": "2bb613f5",
   "metadata": {},
   "outputs": [
    {
     "name": "stdout",
     "output_type": "stream",
     "text": [
      "\n"
     ]
    }
   ],
   "source": [
    "s=\"HYDERABAD\"\n",
    "print(s[-1:-6])# step value: +1"
   ]
  },
  {
   "cell_type": "code",
   "execution_count": 22,
   "id": "52606df8",
   "metadata": {},
   "outputs": [
    {
     "name": "stdout",
     "output_type": "stream",
     "text": [
      "DABAR\n"
     ]
    }
   ],
   "source": [
    "s=\"HYDERABAD\"\n",
    "print(s[-1:-6:-1])# step value: -1"
   ]
  },
  {
   "cell_type": "code",
   "execution_count": null,
   "id": "a5741749",
   "metadata": {},
   "outputs": [],
   "source": []
  }
 ],
 "metadata": {
  "kernelspec": {
   "display_name": "Python 3 (ipykernel)",
   "language": "python",
   "name": "python3"
  },
  "language_info": {
   "codemirror_mode": {
    "name": "ipython",
    "version": 3
   },
   "file_extension": ".py",
   "mimetype": "text/x-python",
   "name": "python",
   "nbconvert_exporter": "python",
   "pygments_lexer": "ipython3",
   "version": "3.11.3"
  }
 },
 "nbformat": 4,
 "nbformat_minor": 5
}
