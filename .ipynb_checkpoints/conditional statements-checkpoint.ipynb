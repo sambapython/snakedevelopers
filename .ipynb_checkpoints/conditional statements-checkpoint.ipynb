{
 "cells": [
  {
   "cell_type": "code",
   "execution_count": 1,
   "id": "bca12e3d",
   "metadata": {},
   "outputs": [
    {
     "name": "stdout",
     "output_type": "stream",
     "text": [
      "1000 2000\n",
      "a is big\n",
      "b is big\n"
     ]
    }
   ],
   "source": [
    "a=1000\n",
    "b=2000\n",
    "print(a,b)\n",
    "print(\"a is big\")\n",
    "print(\"b is big\")"
   ]
  },
  {
   "cell_type": "code",
   "execution_count": null,
   "id": "f09a1260",
   "metadata": {},
   "outputs": [],
   "source": [
    "a=1000\n",
    "b=2000\n"
   ]
  },
  {
   "cell_type": "code",
   "execution_count": null,
   "id": "a659c830",
   "metadata": {},
   "outputs": [],
   "source": [
    "a=10\n",
    "b=9\n"
   ]
  },
  {
   "cell_type": "code",
   "execution_count": 2,
   "id": "5b10238b",
   "metadata": {},
   "outputs": [
    {
     "name": "stdout",
     "output_type": "stream",
     "text": [
      "HELLO\n",
      "a is big\n",
      "HI\n"
     ]
    }
   ],
   "source": [
    "#main block\n",
    "print(\"HELLO\")\n",
    "a=1000\n",
    "b=2000\n",
    "if True:# if block\n",
    "    print(\"a is big\")\n",
    "else:# else block\n",
    "    print(\"b is big\")\n",
    "print(\"HI\")"
   ]
  },
  {
   "cell_type": "code",
   "execution_count": 3,
   "id": "a3913b9c",
   "metadata": {},
   "outputs": [
    {
     "name": "stdout",
     "output_type": "stream",
     "text": [
      "HELLO\n",
      "b is big\n",
      "HI\n"
     ]
    }
   ],
   "source": [
    "#main block\n",
    "print(\"HELLO\")\n",
    "a=1000\n",
    "b=2000\n",
    "if False:# if block\n",
    "    print(\"a is big\")\n",
    "else:# else block\n",
    "    print(\"b is big\")\n",
    "print(\"HI\")"
   ]
  },
  {
   "cell_type": "code",
   "execution_count": 4,
   "id": "bb292769",
   "metadata": {},
   "outputs": [
    {
     "name": "stdout",
     "output_type": "stream",
     "text": [
      "HELLO\n",
      "False\n"
     ]
    }
   ],
   "source": [
    "print(\"HELLO\")\n",
    "a=1000\n",
    "b=2000\n",
    "print(a>b)"
   ]
  },
  {
   "cell_type": "code",
   "execution_count": 5,
   "id": "7d13213d",
   "metadata": {},
   "outputs": [
    {
     "name": "stdout",
     "output_type": "stream",
     "text": [
      "HELLO\n",
      "True\n"
     ]
    }
   ],
   "source": [
    "print(\"HELLO\")\n",
    "a=1000\n",
    "b=500\n",
    "print(a>b)"
   ]
  },
  {
   "cell_type": "code",
   "execution_count": 6,
   "id": "8d88750e",
   "metadata": {},
   "outputs": [
    {
     "name": "stdout",
     "output_type": "stream",
     "text": [
      "HELLO\n",
      "a is big\n"
     ]
    }
   ],
   "source": [
    "print(\"HELLO\")\n",
    "a=1000\n",
    "b=500\n",
    "if a>b:\n",
    "    print(\"a is big\")\n",
    "else:\n",
    "    print(\"b is big\")"
   ]
  },
  {
   "cell_type": "code",
   "execution_count": 7,
   "id": "772d7836",
   "metadata": {},
   "outputs": [
    {
     "name": "stdout",
     "output_type": "stream",
     "text": [
      "HELLO\n",
      "b is big\n"
     ]
    }
   ],
   "source": [
    "print(\"HELLO\")\n",
    "a=100\n",
    "b=500\n",
    "if a>b:#False\n",
    "    print(\"a is big\")\n",
    "else:\n",
    "    print(\"b is big\")"
   ]
  },
  {
   "cell_type": "code",
   "execution_count": 8,
   "id": "6d98d3ba",
   "metadata": {},
   "outputs": [
    {
     "name": "stdout",
     "output_type": "stream",
     "text": [
      "HELLO\n",
      "b is big\n"
     ]
    }
   ],
   "source": [
    "print(\"HELLO\")\n",
    "a=100\n",
    "b=500\n",
    "if a>b:#False\n",
    "    print(\"a is big\")\n",
    "if a<b:\n",
    "    print(\"b is big\")"
   ]
  },
  {
   "cell_type": "code",
   "execution_count": 9,
   "id": "96f043c7",
   "metadata": {},
   "outputs": [
    {
     "name": "stdout",
     "output_type": "stream",
     "text": [
      "HELLO\n",
      "b is big\n"
     ]
    }
   ],
   "source": [
    "print(\"HELLO\")\n",
    "a=100\n",
    "b=100\n",
    "if a>b:#False\n",
    "    print(\"a is big\")\n",
    "else:\n",
    "    print(\"b is big\")"
   ]
  },
  {
   "cell_type": "code",
   "execution_count": 10,
   "id": "37197fc0",
   "metadata": {},
   "outputs": [
    {
     "data": {
      "text/plain": [
       "False"
      ]
     },
     "execution_count": 10,
     "metadata": {},
     "output_type": "execute_result"
    }
   ],
   "source": [
    "100>100"
   ]
  },
  {
   "cell_type": "code",
   "execution_count": 11,
   "id": "aac7195a",
   "metadata": {},
   "outputs": [
    {
     "name": "stdout",
     "output_type": "stream",
     "text": [
      "HELLO\n"
     ]
    }
   ],
   "source": [
    "print(\"HELLO\")\n",
    "a=100\n",
    "b=100\n",
    "if a>b:#False\n",
    "    print(\"a is big\")\n",
    "if a<b:#False\n",
    "    print(\"b is big\")"
   ]
  },
  {
   "cell_type": "code",
   "execution_count": 12,
   "id": "595c7848",
   "metadata": {},
   "outputs": [
    {
     "data": {
      "text/plain": [
       "False"
      ]
     },
     "execution_count": 12,
     "metadata": {},
     "output_type": "execute_result"
    }
   ],
   "source": [
    "100>100"
   ]
  },
  {
   "cell_type": "code",
   "execution_count": 13,
   "id": "cd923ab4",
   "metadata": {},
   "outputs": [
    {
     "data": {
      "text/plain": [
       "False"
      ]
     },
     "execution_count": 13,
     "metadata": {},
     "output_type": "execute_result"
    }
   ],
   "source": [
    "100<100"
   ]
  },
  {
   "cell_type": "code",
   "execution_count": 14,
   "id": "b7a676ba",
   "metadata": {},
   "outputs": [
    {
     "name": "stdout",
     "output_type": "stream",
     "text": [
      "3\n"
     ]
    }
   ],
   "source": [
    "s=\"pyt\"\n",
    "print(len(s))"
   ]
  },
  {
   "cell_type": "code",
   "execution_count": 15,
   "id": "e5f6445e",
   "metadata": {},
   "outputs": [
    {
     "name": "stdout",
     "output_type": "stream",
     "text": [
      "9\n"
     ]
    }
   ],
   "source": [
    "s=\"pytsdfdsf\"\n",
    "print(len(s))"
   ]
  },
  {
   "cell_type": "code",
   "execution_count": 16,
   "id": "2ed591b5",
   "metadata": {},
   "outputs": [
    {
     "name": "stdout",
     "output_type": "stream",
     "text": [
      "0\n"
     ]
    }
   ],
   "source": [
    "s=\"\"\n",
    "print(len(s))"
   ]
  },
  {
   "cell_type": "code",
   "execution_count": 17,
   "id": "af7dab1f",
   "metadata": {},
   "outputs": [
    {
     "name": "stdout",
     "output_type": "stream",
     "text": [
      "Enter string:werewtwetw\n",
      "Valid string\n"
     ]
    }
   ],
   "source": [
    "# check the given string is valid or not\n",
    "s=input(\"Enter string:\")\n",
    "if len(s)==0:#10==0: False\n",
    "    print(\"Invalid string\")\n",
    "else:\n",
    "    print(\"Valid string\")"
   ]
  },
  {
   "cell_type": "code",
   "execution_count": 18,
   "id": "efa9a3b8",
   "metadata": {},
   "outputs": [
    {
     "name": "stdout",
     "output_type": "stream",
     "text": [
      "Enter string:\n",
      "Invalid string\n"
     ]
    }
   ],
   "source": [
    "# check the given string is valid or not\n",
    "s=input(\"Enter string:\")\n",
    "if len(s)==0:#0==0: True\n",
    "    print(\"Invalid string\")\n",
    "else:\n",
    "    print(\"Valid string\")"
   ]
  },
  {
   "cell_type": "code",
   "execution_count": 19,
   "id": "a47c7243",
   "metadata": {},
   "outputs": [
    {
     "data": {
      "text/plain": [
       "False"
      ]
     },
     "execution_count": 19,
     "metadata": {},
     "output_type": "execute_result"
    }
   ],
   "source": [
    "bool(\"\")"
   ]
  },
  {
   "cell_type": "code",
   "execution_count": 20,
   "id": "454ca479",
   "metadata": {},
   "outputs": [
    {
     "data": {
      "text/plain": [
       "True"
      ]
     },
     "execution_count": 20,
     "metadata": {},
     "output_type": "execute_result"
    }
   ],
   "source": [
    "bool(\"asdsad\")"
   ]
  },
  {
   "cell_type": "code",
   "execution_count": 21,
   "id": "46601cf8",
   "metadata": {},
   "outputs": [
    {
     "name": "stdout",
     "output_type": "stream",
     "text": [
      "Valid string\n"
     ]
    }
   ],
   "source": [
    "# check the given string is valid or not\n",
    "s= \"PYT\" #input(\"Enter string:\")\n",
    "if bool(s):#True\n",
    "    print(\"Valid string\")\n",
    "else:\n",
    "    print(\"Invalid string\")"
   ]
  },
  {
   "cell_type": "code",
   "execution_count": 22,
   "id": "bd708e59",
   "metadata": {},
   "outputs": [
    {
     "name": "stdout",
     "output_type": "stream",
     "text": [
      "Invalid string\n"
     ]
    }
   ],
   "source": [
    "# check the given string is valid or not\n",
    "s= \"\" #input(\"Enter string:\")\n",
    "if bool(s):#False\n",
    "    print(\"Valid string\")\n",
    "else:\n",
    "    print(\"Invalid string\")"
   ]
  },
  {
   "cell_type": "code",
   "execution_count": 23,
   "id": "94972e41",
   "metadata": {},
   "outputs": [
    {
     "name": "stdout",
     "output_type": "stream",
     "text": [
      "Valid string\n"
     ]
    }
   ],
   "source": [
    "# check the given string is valid or not\n",
    "s= \"\" #input(\"Enter string:\")\n",
    "if bool(s):#False\n",
    "    print(\"Invalid string\")\n",
    "else:\n",
    "    print(\"Valid string\")\n",
    "    \n",
    "    "
   ]
  },
  {
   "cell_type": "code",
   "execution_count": 24,
   "id": "f688acab",
   "metadata": {},
   "outputs": [
    {
     "name": "stdout",
     "output_type": "stream",
     "text": [
      "Invalid string\n"
     ]
    }
   ],
   "source": [
    "# check the given string is valid or not\n",
    "s= \"asfasfdsaf\" #input(\"Enter string:\")\n",
    "if bool(s):#True\n",
    "    print(\"Invalid string\")\n",
    "else:\n",
    "    print(\"Valid string\")"
   ]
  },
  {
   "cell_type": "code",
   "execution_count": 25,
   "id": "29dcccc4",
   "metadata": {},
   "outputs": [
    {
     "name": "stdout",
     "output_type": "stream",
     "text": [
      "1.Apple\n",
      "2.Orange\n",
      "3.Grapes\n",
      "4.Banana\n"
     ]
    }
   ],
   "source": [
    "print(\"1.Apple\\n2.Orange\\n3.Grapes\\n4.Banana\")"
   ]
  },
  {
   "cell_type": "code",
   "execution_count": 26,
   "id": "cf9a92dd",
   "metadata": {},
   "outputs": [
    {
     "name": "stdout",
     "output_type": "stream",
     "text": [
      "1.Apple\n",
      "2.Orange\n",
      "3.Grapes\n",
      "4.Banana\n",
      "Enter an option:2\n",
      "2 <class 'str'>\n"
     ]
    }
   ],
   "source": [
    "print(\"1.Apple\\n2.Orange\\n3.Grapes\\n4.Banana\")\n",
    "opt=input(\"Enter an option:\")\n",
    "print(opt, type(opt))"
   ]
  },
  {
   "cell_type": "code",
   "execution_count": 27,
   "id": "1294736b",
   "metadata": {},
   "outputs": [
    {
     "name": "stdout",
     "output_type": "stream",
     "text": [
      "1.Apple\n",
      "2.Orange\n",
      "3.Grapes\n",
      "4.Banana\n",
      "Enter an option:3\n",
      "THANKS\n"
     ]
    }
   ],
   "source": [
    "print(\"1.Apple\\n2.Orange\\n3.Grapes\\n4.Banana\")\n",
    "opt=input(\"Enter an option:\")#3\n",
    "if opt==1:#\"3\"==1: False\n",
    "    print(\"The dozen apples, can get for Rs.250\")\n",
    "if opt==2:#\"3\"==2: False\n",
    "    print(\"The dozen orancges, can get for Rs.150\")\n",
    "if opt==3:#\"3\"==3: flase\n",
    "    print(\"The KG GRAPES, can get for Rs.80\")\n",
    "if opt==4:#\"3\" == 4 False\n",
    "    print(\"The dozen Bananas, can get for Rs.50\")\n",
    "print(\"THANKS\")\n",
    "    "
   ]
  },
  {
   "cell_type": "code",
   "execution_count": 28,
   "id": "8ea16889",
   "metadata": {},
   "outputs": [
    {
     "name": "stdout",
     "output_type": "stream",
     "text": [
      "1.Apple\n",
      "2.Orange\n",
      "3.Grapes\n",
      "4.Banana\n",
      "Enter an option:3\n",
      "The KG GRAPES, can get for Rs.80\n",
      "THANKS\n"
     ]
    }
   ],
   "source": [
    "print(\"1.Apple\\n2.Orange\\n3.Grapes\\n4.Banana\")\n",
    "opt=input(\"Enter an option:\")#3\n",
    "if opt==\"1\":#\"3\"==\"1\": False\n",
    "    print(\"The dozen apples, can get for Rs.250\")\n",
    "if opt==\"2\":#\"3\"==\"2\": False\n",
    "    print(\"The dozen orancges, can get for Rs.150\")\n",
    "if opt==\"3\":#\"3\"==\"3\": True\n",
    "    print(\"The KG GRAPES, can get for Rs.80\")\n",
    "if opt==\"4\":#\"3\" == \"4\":  False\n",
    "    print(\"The dozen Bananas, can get for Rs.50\")\n",
    "print(\"THANKS\")\n",
    "    "
   ]
  },
  {
   "cell_type": "code",
   "execution_count": 29,
   "id": "60d0e9a7",
   "metadata": {},
   "outputs": [
    {
     "name": "stdout",
     "output_type": "stream",
     "text": [
      "1.Apple\n",
      "2.Orange\n",
      "3.Grapes\n",
      "4.Banana\n",
      "Enter an option:2\n",
      "The dozen orancges, can get for Rs.150\n",
      "THANKS\n"
     ]
    }
   ],
   "source": [
    "print(\"1.Apple\\n2.Orange\\n3.Grapes\\n4.Banana\")\n",
    "opt=input(\"Enter an option:\")#2\n",
    "if opt==\"1\":#\"2\"==\"1\": False\n",
    "    print(\"The dozen apples, can get for Rs.250\")\n",
    "if opt==\"2\":#\"2\"==\"2\": True\n",
    "    print(\"The dozen oranges, can get for Rs.150\")\n",
    "if opt==\"3\":#\"2\"==\"3\": False\n",
    "    print(\"The KG GRAPES, can get for Rs.80\")\n",
    "if opt==\"4\":#\"2\" == \"4\":  False\n",
    "    print(\"The dozen Bananas, can get for Rs.50\")\n",
    "print(\"THANKS\")\n",
    "    "
   ]
  },
  {
   "cell_type": "code",
   "execution_count": 30,
   "id": "96908aa6",
   "metadata": {},
   "outputs": [
    {
     "name": "stdout",
     "output_type": "stream",
     "text": [
      "1.Apple\n",
      "2.Orange\n",
      "3.Grapes\n",
      "4.Banana\n",
      "Enter an option:23\n",
      "THANKS\n"
     ]
    }
   ],
   "source": [
    "print(\"1.Apple\\n2.Orange\\n3.Grapes\\n4.Banana\")\n",
    "opt=input(\"Enter an option:\")#23\n",
    "if opt==\"1\":#\"23\"==\"1\": False\n",
    "    print(\"The dozen apples, can get for Rs.250\")\n",
    "if opt==\"2\":#\"23\"==\"2\": False\n",
    "    print(\"The dozen oranges, can get for Rs.150\")\n",
    "if opt==\"3\":#\"23\"==\"3\": False\n",
    "    print(\"The KG GRAPES, can get for Rs.80\")\n",
    "if opt==\"4\":#\"23\" == \"4\":  False\n",
    "    print(\"The dozen Bananas, can get for Rs.50\")\n",
    "print(\"THANKS\")\n",
    "    "
   ]
  },
  {
   "cell_type": "code",
   "execution_count": null,
   "id": "c58d12f9",
   "metadata": {},
   "outputs": [],
   "source": []
  }
 ],
 "metadata": {
  "kernelspec": {
   "display_name": "Python 3 (ipykernel)",
   "language": "python",
   "name": "python3"
  },
  "language_info": {
   "codemirror_mode": {
    "name": "ipython",
    "version": 3
   },
   "file_extension": ".py",
   "mimetype": "text/x-python",
   "name": "python",
   "nbconvert_exporter": "python",
   "pygments_lexer": "ipython3",
   "version": "3.11.3"
  }
 },
 "nbformat": 4,
 "nbformat_minor": 5
}
