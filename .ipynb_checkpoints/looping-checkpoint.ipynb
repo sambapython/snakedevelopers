{
 "cells": [
  {
   "cell_type": "code",
   "execution_count": 1,
   "id": "3bf7fa7d",
   "metadata": {},
   "outputs": [
    {
     "name": "stdout",
     "output_type": "stream",
     "text": [
      "EVEN\n"
     ]
    }
   ],
   "source": [
    "number=12\n",
    "if number%2==0:\n",
    "    print(\"EVEN\")\n",
    "else:\n",
    "    print(\"ODD\")"
   ]
  },
  {
   "cell_type": "code",
   "execution_count": 2,
   "id": "842e52e9",
   "metadata": {},
   "outputs": [
    {
     "name": "stdout",
     "output_type": "stream",
     "text": [
      "+VE\n"
     ]
    }
   ],
   "source": [
    "number=12\n",
    "if number>=0:\n",
    "    print(\"+VE\")\n",
    "else:\n",
    "    print(\"-VE\")"
   ]
  },
  {
   "cell_type": "code",
   "execution_count": null,
   "id": "a485b0a3",
   "metadata": {},
   "outputs": [],
   "source": [
    "numbers = [12,14,-23,55,-67,-68]\n",
    "\"\"\"\n",
    "12 +ve\n",
    "14 +ve\n",
    "-23 -ve\n",
    "55 +ve\n",
    "-67 -ve\n",
    "-68 -ve\n",
    "\"\"\""
   ]
  },
  {
   "cell_type": "code",
   "execution_count": 3,
   "id": "8421aa69",
   "metadata": {},
   "outputs": [
    {
     "name": "stdout",
     "output_type": "stream",
     "text": [
      "12\n"
     ]
    }
   ],
   "source": [
    "numbers = [12,14,-23,55,-67,-68]\n",
    "print(numbers[0])"
   ]
  },
  {
   "cell_type": "code",
   "execution_count": 4,
   "id": "268bd6a7",
   "metadata": {},
   "outputs": [
    {
     "name": "stdout",
     "output_type": "stream",
     "text": [
      "14\n"
     ]
    }
   ],
   "source": [
    "numbers = [12,14,-23,55,-67,-68]\n",
    "print(numbers[1])"
   ]
  },
  {
   "cell_type": "code",
   "execution_count": 5,
   "id": "6afcb577",
   "metadata": {},
   "outputs": [
    {
     "name": "stdout",
     "output_type": "stream",
     "text": [
      "-23\n"
     ]
    }
   ],
   "source": [
    "numbers = [12,14,-23,55,-67,-68]\n",
    "print(numbers[2])"
   ]
  },
  {
   "cell_type": "code",
   "execution_count": 6,
   "id": "08402ea8",
   "metadata": {},
   "outputs": [
    {
     "name": "stdout",
     "output_type": "stream",
     "text": [
      "12 +ve\n",
      "14 +ve\n",
      "-23 -ve\n",
      "55 +ve\n"
     ]
    }
   ],
   "source": [
    "numbers = [12,14,-23,55,-67,-68]\n",
    "if numbers[0]>=0:\n",
    "    print(numbers[0], \"+ve\")\n",
    "else:\n",
    "    print(numbers[0], \"-ve\")\n",
    "if numbers[1]>=0:\n",
    "    print(numbers[1], \"+ve\")\n",
    "else:\n",
    "    print(numbers[1], \"-ve\")\n",
    "if numbers[2]>=0:\n",
    "    print(numbers[2], \"+ve\")\n",
    "else:\n",
    "    print(numbers[2], \"-ve\")\n",
    "if numbers[3]>=0:\n",
    "    print(numbers[3], \"+ve\")\n",
    "else:\n",
    "    print(numbers[3], \"-ve\")"
   ]
  },
  {
   "cell_type": "code",
   "execution_count": 7,
   "id": "94122a94",
   "metadata": {},
   "outputs": [
    {
     "name": "stdout",
     "output_type": "stream",
     "text": [
      "HELLO\n",
      "HI\n",
      "12\n",
      "HI\n",
      "14\n",
      "HI\n",
      "-23\n",
      "HI\n",
      "55\n",
      "HI\n",
      "-67\n",
      "HI\n",
      "-68\n",
      "DONE\n"
     ]
    }
   ],
   "source": [
    "print(\"HELLO\")\n",
    "numbers = [12,14,-23,55,-67,-68]\n",
    "for num in numbers:#num=12, num=14, num=-23, num=55, num=-67, num=-68\n",
    "    print(\"HI\")\n",
    "    print(num)\n",
    "print(\"DONE\")"
   ]
  },
  {
   "cell_type": "code",
   "execution_count": 8,
   "id": "59c85201",
   "metadata": {},
   "outputs": [
    {
     "name": "stdout",
     "output_type": "stream",
     "text": [
      "hello\n",
      "DONE\n"
     ]
    }
   ],
   "source": [
    "print(\"hello\")\n",
    "for i in []:\n",
    "    print(\"HI\")\n",
    "print(\"DONE\")"
   ]
  },
  {
   "cell_type": "code",
   "execution_count": 9,
   "id": "f357ea84",
   "metadata": {},
   "outputs": [
    {
     "name": "stdout",
     "output_type": "stream",
     "text": [
      "hello\n",
      "HI\n",
      "HI\n",
      "DONE\n"
     ]
    }
   ],
   "source": [
    "print(\"hello\")\n",
    "for i in [10,20]:#i=10, i=20\n",
    "    print(\"HI\")\n",
    "print(\"DONE\")"
   ]
  },
  {
   "cell_type": "code",
   "execution_count": 10,
   "id": "f25e77ed",
   "metadata": {},
   "outputs": [
    {
     "name": "stdout",
     "output_type": "stream",
     "text": [
      "HELLO\n",
      "12 +VE\n",
      "14 +VE\n",
      "-23 -VE\n",
      "55 +VE\n",
      "-67 -VE\n",
      "-68 -VE\n",
      "DONE\n"
     ]
    }
   ],
   "source": [
    "print(\"HELLO\")\n",
    "numbers = [12,14,-23,55,-67,-68]\n",
    "for num in numbers:\n",
    "    if num>=0:\n",
    "        print(num, \"+VE\")\n",
    "    else:\n",
    "        print(num, \"-VE\")\n",
    "print(\"DONE\")"
   ]
  },
  {
   "cell_type": "code",
   "execution_count": 11,
   "id": "c13713a3",
   "metadata": {},
   "outputs": [
    {
     "name": "stdout",
     "output_type": "stream",
     "text": [
      "HELLO\n",
      "+VE count: 4 -VE counr: 2\n",
      "DONE\n"
     ]
    }
   ],
   "source": [
    "#howmany number of positive numbers, negative numbers are there\n",
    "print(\"HELLO\")\n",
    "numbers = [12,14,-23,55,-67, 68]\n",
    "p_c=0\n",
    "n_c=0\n",
    "for num in numbers:\n",
    "    if num>=0:\n",
    "        p_c=p_c+1\n",
    "    else:\n",
    "        n_c=n_c+1\n",
    "print(\"+VE count:\",p_c,\"-VE count:\",n_c)\n",
    "print(\"DONE\")"
   ]
  },
  {
   "cell_type": "code",
   "execution_count": 12,
   "id": "db8390bb",
   "metadata": {},
   "outputs": [
    {
     "name": "stdout",
     "output_type": "stream",
     "text": [
      "HELLO\n",
      "+VE number\n",
      "+VE number\n",
      "+VE number\n",
      "+VE number\n"
     ]
    }
   ],
   "source": [
    "#check whether the given list has atleast one positive number.\n",
    "print(\"HELLO\")\n",
    "numbers = [12,14,-23,55,-67, 68]\n",
    "for num in numbers:\n",
    "    if num>=0:\n",
    "        print(\"+VE number\")"
   ]
  },
  {
   "cell_type": "code",
   "execution_count": 13,
   "id": "867e7c0f",
   "metadata": {},
   "outputs": [
    {
     "name": "stdout",
     "output_type": "stream",
     "text": [
      "HELLO\n"
     ]
    }
   ],
   "source": [
    "#check whether the given list has atleast one positive number.\n",
    "print(\"HELLO\")\n",
    "numbers = [-23,-67]\n",
    "for num in numbers:\n",
    "    if num>=0:\n",
    "        print(\"+VE number\")"
   ]
  },
  {
   "cell_type": "code",
   "execution_count": 14,
   "id": "206d5246",
   "metadata": {},
   "outputs": [
    {
     "name": "stdout",
     "output_type": "stream",
     "text": [
      "HELLO\n",
      "0\n",
      "NO +VE numbers\n"
     ]
    }
   ],
   "source": [
    "#check whether the given list has atleast one positive number.\n",
    "print(\"HELLO\")\n",
    "numbers = [-23, -67]\n",
    "p_c=0\n",
    "for num in numbers:\n",
    "    if num>=0:\n",
    "        p_c=p_c+1\n",
    "print(p_c)\n",
    "if p_c==0:\n",
    "    print(\"NO +VE numbers\")\n",
    "else:\n",
    "    print(\"IT has +VE numbers\")\n",
    "    "
   ]
  },
  {
   "cell_type": "code",
   "execution_count": 15,
   "id": "a6f60621",
   "metadata": {},
   "outputs": [
    {
     "name": "stdout",
     "output_type": "stream",
     "text": [
      "HELLO\n",
      "2\n",
      "IT has +VE numbers\n"
     ]
    }
   ],
   "source": [
    "#check whether the given list has atleast one positive number.\n",
    "print(\"HELLO\")\n",
    "numbers = [-23, -67,56,67]\n",
    "p_c=0\n",
    "for num in numbers:\n",
    "    if num>=0:\n",
    "        p_c=p_c+1\n",
    "print(p_c)\n",
    "if p_c==0:\n",
    "    print(\"NO +VE numbers\")\n",
    "else:\n",
    "    print(\"IT has +VE numbers\")\n",
    "    "
   ]
  },
  {
   "cell_type": "code",
   "execution_count": 16,
   "id": "a33c27a1",
   "metadata": {},
   "outputs": [
    {
     "name": "stdout",
     "output_type": "stream",
     "text": [
      "HELLO\n",
      "NUM= 34\n",
      "NUM= -23\n",
      "NUM= -67\n",
      "NUM= 56\n",
      "NUM= 67\n",
      "3\n",
      "IT has +VE numbers\n"
     ]
    }
   ],
   "source": [
    "#check whether the given list has atleast one positive number.\n",
    "print(\"HELLO\")\n",
    "numbers = [34, -23, -67,56,67]\n",
    "p_c=0\n",
    "for num in numbers:\n",
    "    print(\"NUM=\", num)\n",
    "    if num>=0:\n",
    "        p_c=p_c+1\n",
    "print(p_c)\n",
    "if p_c==0:\n",
    "    print(\"NO +VE numbers\")\n",
    "else:\n",
    "    print(\"IT has +VE numbers\")\n",
    "    "
   ]
  },
  {
   "cell_type": "code",
   "execution_count": 17,
   "id": "c46ffbd2",
   "metadata": {},
   "outputs": [
    {
     "name": "stdout",
     "output_type": "stream",
     "text": [
      "HELLO\n",
      "NUM= 34\n",
      "1\n",
      "IT has +VE numbers\n"
     ]
    }
   ],
   "source": [
    "#check whether the given list has atleast one positive number.\n",
    "print(\"HELLO\")\n",
    "numbers = [34, -23, -67,56,67]\n",
    "p_c=0\n",
    "for num in numbers:\n",
    "    print(\"NUM=\", num)\n",
    "    if num>=0:\n",
    "        p_c=p_c+1\n",
    "        break\n",
    "print(p_c)\n",
    "if p_c==0:\n",
    "    print(\"NO +VE numbers\")\n",
    "else:\n",
    "    print(\"IT has +VE numbers\")\n",
    "    "
   ]
  },
  {
   "cell_type": "code",
   "execution_count": 18,
   "id": "d38a2347",
   "metadata": {},
   "outputs": [
    {
     "name": "stdout",
     "output_type": "stream",
     "text": [
      "HELLO\n",
      "NUM= -23\n",
      "NUM= -67\n",
      "NUM= 56\n",
      "1\n",
      "IT has +VE numbers\n"
     ]
    }
   ],
   "source": [
    "#check whether the given list has atleast one positive number.\n",
    "print(\"HELLO\")\n",
    "numbers = [-23, -67,56,67]\n",
    "p_c=0\n",
    "for num in numbers:#num=-23, num=-67, num=56\n",
    "    print(\"NUM=\", num)\n",
    "    if num>=0:\n",
    "        p_c=p_c+1\n",
    "        break\n",
    "print(p_c)\n",
    "if p_c==0:\n",
    "    print(\"NO +VE numbers\")\n",
    "else:\n",
    "    print(\"IT has +VE numbers\")\n",
    "    "
   ]
  },
  {
   "cell_type": "code",
   "execution_count": 20,
   "id": "0ca8868e",
   "metadata": {},
   "outputs": [
    {
     "name": "stdout",
     "output_type": "stream",
     "text": [
      "H\n",
      "HELLO\n",
      "y\n",
      "HELLO\n",
      "d\n",
      "HELLO\n",
      "e\n",
      "HELLO\n",
      "r\n",
      "HELLO\n",
      "a\n",
      "HELLO\n",
      "b\n",
      "HELLO\n",
      "a\n",
      "HELLO\n",
      "d\n",
      "HELLO\n",
      " \n",
      "HELLO\n",
      "i\n",
      "HELLO\n",
      "s\n",
      "HELLO\n",
      " \n",
      "HELLO\n",
      "a\n",
      "HELLO\n",
      " \n",
      "HELLO\n",
      "c\n",
      "HELLO\n",
      "l\n",
      "HELLO\n",
      "e\n",
      "HELLO\n",
      "a\n",
      "HELLO\n",
      "n\n",
      "HELLO\n",
      " \n",
      "HELLO\n",
      "c\n",
      "HELLO\n",
      "i\n",
      "HELLO\n",
      "t\n",
      "HELLO\n",
      "y\n",
      "HELLO\n",
      ".\n",
      "HELLO\n",
      "DONE\n"
     ]
    }
   ],
   "source": [
    "s=\"Hyderabad is a clean city.\"\n",
    "# Add coma after every three letters.\n",
    "#Hyd,era,bad, is, a ,cle,an ,cit,y.\n",
    "for i in s:\n",
    "    print(i)\n",
    "    print(\"HELLO\")\n",
    "print(\"DONE\")"
   ]
  },
  {
   "cell_type": "code",
   "execution_count": 21,
   "id": "62971c5b",
   "metadata": {},
   "outputs": [
    {
     "name": "stdout",
     "output_type": "stream",
     "text": [
      "H\n",
      "Hy\n",
      "Hyd\n",
      "Hyde\n",
      "Hyder\n",
      "Hydera\n",
      "Hyderab\n",
      "Hyderaba\n",
      "Hyderabad\n",
      "Hyderabad \n",
      "Hyderabad i\n",
      "Hyderabad is\n",
      "Hyderabad is \n",
      "Hyderabad is a\n",
      "Hyderabad is a \n",
      "Hyderabad is a c\n",
      "Hyderabad is a cl\n",
      "Hyderabad is a cle\n",
      "Hyderabad is a clea\n",
      "Hyderabad is a clean\n",
      "Hyderabad is a clean \n",
      "Hyderabad is a clean c\n",
      "Hyderabad is a clean ci\n",
      "Hyderabad is a clean cit\n",
      "Hyderabad is a clean city\n",
      "Hyderabad is a clean city.\n",
      "DONE\n"
     ]
    }
   ],
   "source": [
    "s=\"Hyderabad is a clean city.\"\n",
    "# Add coma after every three letters.\n",
    "#Hyd,era,bad, is, a ,cle,an ,cit,y.\n",
    "sub=\"\"\n",
    "for i in s:\n",
    "    sub=sub+i\n",
    "    print(sub)\n",
    "print(\"DONE\")"
   ]
  },
  {
   "cell_type": "code",
   "execution_count": 25,
   "id": "c1d8d9dc",
   "metadata": {},
   "outputs": [
    {
     "name": "stdout",
     "output_type": "stream",
     "text": [
      "Hyd,\n",
      "era,\n",
      "bad,\n",
      " is,\n",
      " a ,\n",
      "cle,\n",
      "an ,\n",
      "cit,\n",
      "DONE\n"
     ]
    }
   ],
   "source": [
    "s=\"Hyderabad is a clean city.\"\n",
    "# Add coma after every three letters.\n",
    "#Hyd,era,bad, is, a ,cle,an ,cit,y.\n",
    "sub=\"\"\n",
    "for i in s:\n",
    "    sub=sub+i\n",
    "    if len(sub)==3:\n",
    "        sub=sub+\",\"\n",
    "        print(sub)\n",
    "        sub=\"\"\n",
    "print(\"DONE\")"
   ]
  },
  {
   "cell_type": "code",
   "execution_count": 26,
   "id": "86507b43",
   "metadata": {},
   "outputs": [
    {
     "name": "stdout",
     "output_type": "stream",
     "text": [
      "Hyd,\n",
      "Hyd,era,\n",
      "Hyd,era,bad,\n",
      "Hyd,era,bad, is,\n",
      "Hyd,era,bad, is, a ,\n",
      "Hyd,era,bad, is, a ,cle,\n",
      "Hyd,era,bad, is, a ,cle,an ,\n",
      "Hyd,era,bad, is, a ,cle,an ,cit,\n",
      "DONE\n"
     ]
    }
   ],
   "source": [
    "s=\"Hyderabad is a clean city.\"\n",
    "# Add coma after every three letters.\n",
    "#Hyd,era,bad, is, a ,cle,an ,cit,y.\n",
    "sub=\"\"\n",
    "res=\"\"\n",
    "for i in s:\n",
    "    sub=sub+i\n",
    "    if len(sub)==3:\n",
    "        sub=sub+\",\"\n",
    "        res=res+sub\n",
    "        print(res)\n",
    "        sub=\"\"\n",
    "print(\"DONE\")"
   ]
  },
  {
   "cell_type": "code",
   "execution_count": 27,
   "id": "a90c9f88",
   "metadata": {},
   "outputs": [
    {
     "name": "stdout",
     "output_type": "stream",
     "text": [
      "Hyd,era,bad, is, a ,cle,an ,cit,\n",
      "DONE\n"
     ]
    }
   ],
   "source": [
    "s=\"Hyderabad is a clean city.\"\n",
    "# Add coma after every three letters.\n",
    "#Hyd,era,bad, is, a ,cle,an ,cit,y.\n",
    "sub=\"\"\n",
    "res=\"\"\n",
    "for i in s:\n",
    "    sub=sub+i\n",
    "    if len(sub)==3:\n",
    "        sub=sub+\",\"\n",
    "        res=res+sub\n",
    "        sub=\"\"\n",
    "print(res)\n",
    "print(\"DONE\")"
   ]
  },
  {
   "cell_type": "code",
   "execution_count": 1,
   "id": "4fa18bc7",
   "metadata": {},
   "outputs": [
    {
     "name": "stdout",
     "output_type": "stream",
     "text": [
      "yes it has numbers\n"
     ]
    }
   ],
   "source": [
    "s=\"fsad324\"\n",
    "print(\"yes it has numbers\")"
   ]
  },
  {
   "cell_type": "code",
   "execution_count": 3,
   "id": "51d14f38",
   "metadata": {},
   "outputs": [
    {
     "name": "stdout",
     "output_type": "stream",
     "text": [
      "No it does not has numbers\n"
     ]
    }
   ],
   "source": [
    "s=\"fsad\"\n",
    "print(\"No it does not has numbers\")"
   ]
  },
  {
   "cell_type": "code",
   "execution_count": null,
   "id": "1575e129",
   "metadata": {},
   "outputs": [],
   "source": [
    "s=\"fsad3.24\"\n",
    "print(\"yes it has numbers\")"
   ]
  },
  {
   "cell_type": "code",
   "execution_count": 6,
   "id": "1097b192",
   "metadata": {},
   "outputs": [
    {
     "data": {
      "text/plain": [
       "48"
      ]
     },
     "execution_count": 6,
     "metadata": {},
     "output_type": "execute_result"
    }
   ],
   "source": [
    "ord(\"0\")"
   ]
  },
  {
   "cell_type": "code",
   "execution_count": 5,
   "id": "7275f7d9",
   "metadata": {},
   "outputs": [
    {
     "data": {
      "text/plain": [
       "57"
      ]
     },
     "execution_count": 5,
     "metadata": {},
     "output_type": "execute_result"
    }
   ],
   "source": [
    "ord(\"9\")"
   ]
  },
  {
   "cell_type": "code",
   "execution_count": 7,
   "id": "3dae88f4",
   "metadata": {},
   "outputs": [
    {
     "data": {
      "text/plain": [
       "False"
      ]
     },
     "execution_count": 7,
     "metadata": {},
     "output_type": "execute_result"
    }
   ],
   "source": [
    "ord(\"a\") in range(ord(\"0\"), ord(\"9\"))"
   ]
  },
  {
   "cell_type": "code",
   "execution_count": 8,
   "id": "f5120edd",
   "metadata": {},
   "outputs": [
    {
     "data": {
      "text/plain": [
       "97"
      ]
     },
     "execution_count": 8,
     "metadata": {},
     "output_type": "execute_result"
    }
   ],
   "source": [
    "ord(\"a\")"
   ]
  },
  {
   "cell_type": "code",
   "execution_count": 9,
   "id": "fa168027",
   "metadata": {},
   "outputs": [
    {
     "data": {
      "text/plain": [
       "[1, 2, 3, 4, 5, 6, 7, 8, 9]"
      ]
     },
     "execution_count": 9,
     "metadata": {},
     "output_type": "execute_result"
    }
   ],
   "source": [
    "list(range(1,10))"
   ]
  },
  {
   "cell_type": "code",
   "execution_count": 10,
   "id": "6d25d9c7",
   "metadata": {},
   "outputs": [
    {
     "data": {
      "text/plain": [
       "[1, 2, 3, 4, 5, 6, 7, 8, 9, 10]"
      ]
     },
     "execution_count": 10,
     "metadata": {},
     "output_type": "execute_result"
    }
   ],
   "source": [
    "list(range(1,11))"
   ]
  },
  {
   "cell_type": "code",
   "execution_count": 11,
   "id": "42d87651",
   "metadata": {},
   "outputs": [
    {
     "data": {
      "text/plain": [
       "[48, 49, 50, 51, 52, 53, 54, 55, 56]"
      ]
     },
     "execution_count": 11,
     "metadata": {},
     "output_type": "execute_result"
    }
   ],
   "source": [
    "list(range(ord(\"0\"), ord(\"9\")))"
   ]
  },
  {
   "cell_type": "code",
   "execution_count": 12,
   "id": "4b1a0637",
   "metadata": {},
   "outputs": [
    {
     "data": {
      "text/plain": [
       "False"
      ]
     },
     "execution_count": 12,
     "metadata": {},
     "output_type": "execute_result"
    }
   ],
   "source": [
    "ord(\"9\") in range(ord(\"0\"), ord(\"9\"))"
   ]
  },
  {
   "cell_type": "code",
   "execution_count": 13,
   "id": "887e3ae9",
   "metadata": {},
   "outputs": [
    {
     "data": {
      "text/plain": [
       "True"
      ]
     },
     "execution_count": 13,
     "metadata": {},
     "output_type": "execute_result"
    }
   ],
   "source": [
    "ord(\"9\") in range(ord(\"0\"), ord(\"9\")+1)"
   ]
  },
  {
   "cell_type": "code",
   "execution_count": 14,
   "id": "58a63d43",
   "metadata": {},
   "outputs": [
    {
     "data": {
      "text/plain": [
       "range(1, 10)"
      ]
     },
     "execution_count": 14,
     "metadata": {},
     "output_type": "execute_result"
    }
   ],
   "source": [
    "range(1,10)"
   ]
  },
  {
   "cell_type": "code",
   "execution_count": 15,
   "id": "7b0f7b87",
   "metadata": {},
   "outputs": [
    {
     "data": {
      "text/plain": [
       "[1, 2, 3, 4, 5, 6, 7, 8, 9]"
      ]
     },
     "execution_count": 15,
     "metadata": {},
     "output_type": "execute_result"
    }
   ],
   "source": [
    "list(range(1,10))"
   ]
  },
  {
   "cell_type": "code",
   "execution_count": 16,
   "id": "df03b40a",
   "metadata": {},
   "outputs": [
    {
     "data": {
      "text/plain": [
       "[1, 3, 5, 7, 9]"
      ]
     },
     "execution_count": 16,
     "metadata": {},
     "output_type": "execute_result"
    }
   ],
   "source": [
    "list(range(1,10,2))"
   ]
  },
  {
   "cell_type": "code",
   "execution_count": 17,
   "id": "26b74879",
   "metadata": {},
   "outputs": [
    {
     "data": {
      "text/plain": [
       "[-10, -8, -6, -4, -2, 0, 2, 4, 6, 8]"
      ]
     },
     "execution_count": 17,
     "metadata": {},
     "output_type": "execute_result"
    }
   ],
   "source": [
    "list(range(-10,10,2))"
   ]
  },
  {
   "cell_type": "code",
   "execution_count": 18,
   "id": "34521583",
   "metadata": {},
   "outputs": [
    {
     "data": {
      "text/plain": [
       "[]"
      ]
     },
     "execution_count": 18,
     "metadata": {},
     "output_type": "execute_result"
    }
   ],
   "source": [
    "list(range(10,1))"
   ]
  },
  {
   "cell_type": "code",
   "execution_count": 19,
   "id": "14ac3949",
   "metadata": {},
   "outputs": [
    {
     "data": {
      "text/plain": [
       "[10, 9, 8, 7, 6, 5, 4, 3, 2]"
      ]
     },
     "execution_count": 19,
     "metadata": {},
     "output_type": "execute_result"
    }
   ],
   "source": [
    "list(range(10,1,-1))"
   ]
  },
  {
   "cell_type": "code",
   "execution_count": 21,
   "id": "676c5f66",
   "metadata": {},
   "outputs": [
    {
     "data": {
      "text/plain": [
       "[10, 9, 8, 7, 6, 5, 4, 3, 2, 1]"
      ]
     },
     "execution_count": 21,
     "metadata": {},
     "output_type": "execute_result"
    }
   ],
   "source": [
    "list(range(10,0,-1))"
   ]
  },
  {
   "cell_type": "code",
   "execution_count": 22,
   "id": "635cc676",
   "metadata": {},
   "outputs": [
    {
     "ename": "TypeError",
     "evalue": "'str' object cannot be interpreted as an integer",
     "output_type": "error",
     "traceback": [
      "\u001b[1;31m---------------------------------------------------------------------------\u001b[0m",
      "\u001b[1;31mTypeError\u001b[0m                                 Traceback (most recent call last)",
      "Cell \u001b[1;32mIn[22], line 1\u001b[0m\n\u001b[1;32m----> 1\u001b[0m \u001b[38;5;28mrange\u001b[39m(\u001b[38;5;124m\"\u001b[39m\u001b[38;5;124ma\u001b[39m\u001b[38;5;124m\"\u001b[39m,\u001b[38;5;124m\"\u001b[39m\u001b[38;5;124mt\u001b[39m\u001b[38;5;124m\"\u001b[39m)\n",
      "\u001b[1;31mTypeError\u001b[0m: 'str' object cannot be interpreted as an integer"
     ]
    }
   ],
   "source": [
    "range(\"a\",\"t\")"
   ]
  },
  {
   "cell_type": "code",
   "execution_count": 23,
   "id": "f2e0c233",
   "metadata": {},
   "outputs": [
    {
     "ename": "TypeError",
     "evalue": "'float' object cannot be interpreted as an integer",
     "output_type": "error",
     "traceback": [
      "\u001b[1;31m---------------------------------------------------------------------------\u001b[0m",
      "\u001b[1;31mTypeError\u001b[0m                                 Traceback (most recent call last)",
      "Cell \u001b[1;32mIn[23], line 1\u001b[0m\n\u001b[1;32m----> 1\u001b[0m \u001b[38;5;28mrange\u001b[39m(\u001b[38;5;241m1\u001b[39m,\u001b[38;5;241m1.5\u001b[39m)\n",
      "\u001b[1;31mTypeError\u001b[0m: 'float' object cannot be interpreted as an integer"
     ]
    }
   ],
   "source": [
    "range(1,1.5)"
   ]
  },
  {
   "cell_type": "code",
   "execution_count": 24,
   "id": "02ec4d7c",
   "metadata": {},
   "outputs": [
    {
     "ename": "TypeError",
     "evalue": "'float' object cannot be interpreted as an integer",
     "output_type": "error",
     "traceback": [
      "\u001b[1;31m---------------------------------------------------------------------------\u001b[0m",
      "\u001b[1;31mTypeError\u001b[0m                                 Traceback (most recent call last)",
      "Cell \u001b[1;32mIn[24], line 1\u001b[0m\n\u001b[1;32m----> 1\u001b[0m \u001b[38;5;28mrange\u001b[39m(\u001b[38;5;241m1\u001b[39m,\u001b[38;5;241m23.45\u001b[39m)\n",
      "\u001b[1;31mTypeError\u001b[0m: 'float' object cannot be interpreted as an integer"
     ]
    }
   ],
   "source": [
    "range(1,23.45)"
   ]
  },
  {
   "cell_type": "code",
   "execution_count": 25,
   "id": "38d81fef",
   "metadata": {},
   "outputs": [
    {
     "name": "stdout",
     "output_type": "stream",
     "text": [
      "Enter string:ewrewtwet\n",
      "It does not has numbers\n"
     ]
    }
   ],
   "source": [
    "num_count = 0\n",
    "for i  in input(\"Enter string:\"):\n",
    "    if ord(i) in range(ord(\"0\"), ord(\"9\")+1):\n",
    "        num_count = num_count+1\n",
    "        break\n",
    "if num_count==0:\n",
    "    print(\"It does not has numbers\")\n",
    "else:\n",
    "    print(\"it has numbers\")\n",
    "        "
   ]
  },
  {
   "cell_type": "code",
   "execution_count": 26,
   "id": "aa726877",
   "metadata": {},
   "outputs": [
    {
     "name": "stdout",
     "output_type": "stream",
     "text": [
      "Enter string:qwewq34wreqwe\n",
      "it has numbers\n"
     ]
    }
   ],
   "source": [
    "num_count = 0\n",
    "for i  in input(\"Enter string:\"):\n",
    "    if ord(i) in range(ord(\"0\"), ord(\"9\")+1):\n",
    "        num_count = num_count+1\n",
    "        break\n",
    "if num_count==0:\n",
    "    print(\"It does not has numbers\")\n",
    "else:\n",
    "    print(\"it has numbers\")\n",
    "        "
   ]
  },
  {
   "cell_type": "code",
   "execution_count": 27,
   "id": "48360e87",
   "metadata": {},
   "outputs": [
    {
     "name": "stdout",
     "output_type": "stream",
     "text": [
      "HELLO\n",
      "a\n",
      "b\n",
      "c\n",
      "this is else block\n",
      "HELLO\n"
     ]
    }
   ],
   "source": [
    "print(\"HELLO\")\n",
    "for i in \"abc\":\n",
    "    print(i)\n",
    "else:\n",
    "    print(\"this is else block\")\n",
    "print(\"HELLO\")"
   ]
  },
  {
   "cell_type": "code",
   "execution_count": 28,
   "id": "37c4079e",
   "metadata": {},
   "outputs": [
    {
     "name": "stdout",
     "output_type": "stream",
     "text": [
      "HELLO\n",
      "a\n",
      "HELLO\n"
     ]
    }
   ],
   "source": [
    "print(\"HELLO\")\n",
    "for i in \"abc\":\n",
    "    print(i)\n",
    "    break\n",
    "else:\n",
    "    print(\"this is else block\")\n",
    "print(\"HELLO\")"
   ]
  },
  {
   "cell_type": "code",
   "execution_count": 29,
   "id": "4e5619b3",
   "metadata": {},
   "outputs": [
    {
     "name": "stdout",
     "output_type": "stream",
     "text": [
      "HELLO\n",
      "a\n",
      "b\n",
      "c\n",
      "this is else block\n",
      "HELLO\n"
     ]
    }
   ],
   "source": [
    "print(\"HELLO\")\n",
    "for i in \"abc\":\n",
    "    print(i)\n",
    "    if i==\"d\":\n",
    "        break\n",
    "else:\n",
    "    print(\"this is else block\")\n",
    "print(\"HELLO\")"
   ]
  },
  {
   "cell_type": "code",
   "execution_count": 30,
   "id": "64e0d93e",
   "metadata": {},
   "outputs": [
    {
     "name": "stdout",
     "output_type": "stream",
     "text": [
      "HELLO\n",
      "a\n",
      "b\n",
      "c\n",
      "HELLO\n"
     ]
    }
   ],
   "source": [
    "print(\"HELLO\")\n",
    "for i in \"abc\":\n",
    "    print(i)\n",
    "    if i==\"c\":\n",
    "        break\n",
    "else:\n",
    "    print(\"this is else block\")\n",
    "print(\"HELLO\")"
   ]
  },
  {
   "cell_type": "code",
   "execution_count": 31,
   "id": "004cd992",
   "metadata": {},
   "outputs": [
    {
     "name": "stdout",
     "output_type": "stream",
     "text": [
      "Enter string:ewrerw\n",
      "it does not has numbers\n"
     ]
    }
   ],
   "source": [
    "for i  in input(\"Enter string:\"):\n",
    "    if ord(i) in range(ord(\"0\"), ord(\"9\")+1):\n",
    "        print(\"it has numbers\")\n",
    "        break\n",
    "else:\n",
    "    print(\"it does not has numbers\")\n",
    "        "
   ]
  },
  {
   "cell_type": "code",
   "execution_count": 32,
   "id": "cc13c741",
   "metadata": {},
   "outputs": [
    {
     "name": "stdout",
     "output_type": "stream",
     "text": [
      "Enter string:qwewq3213wqewq\n",
      "it has numbers\n"
     ]
    }
   ],
   "source": [
    "for i  in input(\"Enter string:\"):\n",
    "    if ord(i) in range(ord(\"0\"), ord(\"9\")+1):\n",
    "        print(\"it has numbers\")\n",
    "        break\n",
    "else:\n",
    "    print(\"it does not has numbers\")\n",
    "        "
   ]
  },
  {
   "cell_type": "code",
   "execution_count": 34,
   "id": "bf9853c6",
   "metadata": {},
   "outputs": [
    {
     "name": "stdout",
     "output_type": "stream",
     "text": [
      "Enter string:asdasd32121432\n",
      "It does not has special sysmbols\n"
     ]
    }
   ],
   "source": [
    "# check the given string has special symbols or not?\n",
    "for i in input(\"Enter string:\"):\n",
    "    if ord(i) in range(ord(\"a\"), ord(\"z\")+1):\n",
    "        continue\n",
    "    elif ord(i) in range(ord(\"A\"), ord(\"Z\")+1):\n",
    "        continue\n",
    "    elif ord(i) in range(ord(\"0\"), ord(\"9\")+1):\n",
    "        continue\n",
    "    else:\n",
    "        print(\"Yes it has special symbols\")\n",
    "        break\n",
    "else:\n",
    "    print(\"It does not has special sysmbols\")"
   ]
  },
  {
   "cell_type": "code",
   "execution_count": 35,
   "id": "58b08cb5",
   "metadata": {},
   "outputs": [
    {
     "name": "stdout",
     "output_type": "stream",
     "text": [
      "Enter string:q#$$%rewqrqw\n",
      "Yes it has special symbols\n"
     ]
    }
   ],
   "source": [
    "# check the given string has special symbols or not?\n",
    "for i in input(\"Enter string:\"):\n",
    "    if ord(i) in range(ord(\"a\"), ord(\"z\")+1):\n",
    "        continue\n",
    "    elif ord(i) in range(ord(\"A\"), ord(\"Z\")+1):\n",
    "        continue\n",
    "    elif ord(i) in range(ord(\"0\"), ord(\"9\")+1):\n",
    "        continue\n",
    "    else:\n",
    "        print(\"Yes it has special symbols\")\n",
    "        break\n",
    "else:\n",
    "    print(\"It does not has special sysmbols\")"
   ]
  },
  {
   "cell_type": "code",
   "execution_count": 36,
   "id": "5c06fd0d",
   "metadata": {},
   "outputs": [
    {
     "name": "stdout",
     "output_type": "stream",
     "text": [
      "Enter string:wer@#$\n",
      "Yes it has special symbols\n"
     ]
    }
   ],
   "source": [
    "# check the given string has special symbols or not?\n",
    "for i in input(\"Enter string:\"):\n",
    "    if ord(i) in range(ord(\"a\"), ord(\"z\")+1):\n",
    "        continue\n",
    "    elif ord(i) in range(ord(\"A\"), ord(\"Z\")+1):\n",
    "        continue\n",
    "    elif ord(i) in range(ord(\"0\"), ord(\"9\")+1):\n",
    "        continue\n",
    "    else:\n",
    "        print(\"Yes it has special symbols\")\n",
    "        break\n",
    "else:\n",
    "    print(\"It does not has special sysmbols\")"
   ]
  },
  {
   "cell_type": "code",
   "execution_count": 37,
   "id": "253d710d",
   "metadata": {},
   "outputs": [
    {
     "name": "stdout",
     "output_type": "stream",
     "text": [
      "HI\n",
      "HELLO\n",
      "a\n",
      "HI\n",
      "HELLO\n",
      "c\n",
      "HI\n",
      "HELLO\n",
      "d\n",
      "DONE\n"
     ]
    }
   ],
   "source": [
    "for i in \"abcd\":#i=a,b,c,d\n",
    "    if i==\"b\":#False, True,False,False\n",
    "        continue\n",
    "    print(\"HI\")\n",
    "    print(\"HELLO\")\n",
    "    print(i)\n",
    "print(\"DONE\")"
   ]
  },
  {
   "cell_type": "code",
   "execution_count": null,
   "id": "9c9a1384",
   "metadata": {},
   "outputs": [],
   "source": []
  }
 ],
 "metadata": {
  "kernelspec": {
   "display_name": "Python 3 (ipykernel)",
   "language": "python",
   "name": "python3"
  },
  "language_info": {
   "codemirror_mode": {
    "name": "ipython",
    "version": 3
   },
   "file_extension": ".py",
   "mimetype": "text/x-python",
   "name": "python",
   "nbconvert_exporter": "python",
   "pygments_lexer": "ipython3",
   "version": "3.11.3"
  }
 },
 "nbformat": 4,
 "nbformat_minor": 5
}
