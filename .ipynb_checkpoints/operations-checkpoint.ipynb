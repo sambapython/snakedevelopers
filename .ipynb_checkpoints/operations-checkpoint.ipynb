{
 "cells": [
  {
   "cell_type": "code",
   "execution_count": 1,
   "id": "bbddeb90",
   "metadata": {},
   "outputs": [],
   "source": [
    "#arithmatic: +,-,*,/,//,**,%\n",
    "#boolean: >,<,>=,<=,!=,==,in,not,is,and,or"
   ]
  },
  {
   "cell_type": "code",
   "execution_count": 2,
   "id": "475cabba",
   "metadata": {},
   "outputs": [
    {
     "name": "stdout",
     "output_type": "stream",
     "text": [
      "30\n"
     ]
    }
   ],
   "source": [
    "#+\n",
    "print(10+20)"
   ]
  },
  {
   "cell_type": "code",
   "execution_count": 3,
   "id": "8fa34d37",
   "metadata": {},
   "outputs": [
    {
     "ename": "TypeError",
     "evalue": "unsupported operand type(s) for +: 'NoneType' and 'NoneType'",
     "output_type": "error",
     "traceback": [
      "\u001b[1;31m---------------------------------------------------------------------------\u001b[0m",
      "\u001b[1;31mTypeError\u001b[0m                                 Traceback (most recent call last)",
      "Cell \u001b[1;32mIn[3], line 1\u001b[0m\n\u001b[1;32m----> 1\u001b[0m \u001b[38;5;28mprint\u001b[39m(\u001b[38;5;28;01mNone\u001b[39;00m\u001b[38;5;241m+\u001b[39m\u001b[38;5;28;01mNone\u001b[39;00m)\n",
      "\u001b[1;31mTypeError\u001b[0m: unsupported operand type(s) for +: 'NoneType' and 'NoneType'"
     ]
    }
   ],
   "source": [
    "print(None+None)"
   ]
  },
  {
   "cell_type": "code",
   "execution_count": 4,
   "id": "a6398507",
   "metadata": {},
   "outputs": [
    {
     "name": "stdout",
     "output_type": "stream",
     "text": [
      "str1str2\n"
     ]
    }
   ],
   "source": [
    "print(\"str1\"+\"str2\")"
   ]
  },
  {
   "cell_type": "code",
   "execution_count": 5,
   "id": "2160c78e",
   "metadata": {},
   "outputs": [
    {
     "name": "stdout",
     "output_type": "stream",
     "text": [
      "11.23\n"
     ]
    }
   ],
   "source": [
    "print(10+1.23)"
   ]
  },
  {
   "cell_type": "code",
   "execution_count": 6,
   "id": "045e4689",
   "metadata": {},
   "outputs": [
    {
     "ename": "TypeError",
     "evalue": "unsupported operand type(s) for +: 'int' and 'str'",
     "output_type": "error",
     "traceback": [
      "\u001b[1;31m---------------------------------------------------------------------------\u001b[0m",
      "\u001b[1;31mTypeError\u001b[0m                                 Traceback (most recent call last)",
      "Cell \u001b[1;32mIn[6], line 1\u001b[0m\n\u001b[1;32m----> 1\u001b[0m \u001b[38;5;28mprint\u001b[39m(\u001b[38;5;241m10\u001b[39m\u001b[38;5;241m+\u001b[39m\u001b[38;5;124m\"\u001b[39m\u001b[38;5;124msgtr\u001b[39m\u001b[38;5;124m\"\u001b[39m)\n",
      "\u001b[1;31mTypeError\u001b[0m: unsupported operand type(s) for +: 'int' and 'str'"
     ]
    }
   ],
   "source": [
    "print(10+\"sgtr\")"
   ]
  },
  {
   "cell_type": "code",
   "execution_count": 7,
   "id": "c5dd420e",
   "metadata": {},
   "outputs": [
    {
     "ename": "TypeError",
     "evalue": "unsupported operand type(s) for +: 'int' and 'list'",
     "output_type": "error",
     "traceback": [
      "\u001b[1;31m---------------------------------------------------------------------------\u001b[0m",
      "\u001b[1;31mTypeError\u001b[0m                                 Traceback (most recent call last)",
      "Cell \u001b[1;32mIn[7], line 1\u001b[0m\n\u001b[1;32m----> 1\u001b[0m \u001b[38;5;28mprint\u001b[39m(\u001b[38;5;241m10\u001b[39m\u001b[38;5;241m+\u001b[39m[\u001b[38;5;241m1\u001b[39m,\u001b[38;5;241m2\u001b[39m,\u001b[38;5;241m3\u001b[39m,\u001b[38;5;241m4\u001b[39m])\n",
      "\u001b[1;31mTypeError\u001b[0m: unsupported operand type(s) for +: 'int' and 'list'"
     ]
    }
   ],
   "source": [
    "print(10+[1,2,3,4])"
   ]
  },
  {
   "cell_type": "code",
   "execution_count": 1,
   "id": "e9a3c7bb",
   "metadata": {},
   "outputs": [
    {
     "name": "stdout",
     "output_type": "stream",
     "text": [
      "168.67000000000002\n"
     ]
    }
   ],
   "source": [
    "a=123+45.67\n",
    "print(a)"
   ]
  },
  {
   "cell_type": "code",
   "execution_count": 2,
   "id": "2ecd9379",
   "metadata": {},
   "outputs": [],
   "source": [
    "# internally it is converted 123, as float(123): Internal type casting"
   ]
  },
  {
   "cell_type": "code",
   "execution_count": 3,
   "id": "f0fa542f",
   "metadata": {},
   "outputs": [
    {
     "name": "stdout",
     "output_type": "stream",
     "text": [
      "10\n"
     ]
    }
   ],
   "source": [
    "a=10+False\n",
    "print(a)"
   ]
  },
  {
   "cell_type": "code",
   "execution_count": 4,
   "id": "4705e5eb",
   "metadata": {},
   "outputs": [
    {
     "name": "stdout",
     "output_type": "stream",
     "text": [
      "11\n"
     ]
    }
   ],
   "source": [
    "a=10+True\n",
    "print(a)"
   ]
  },
  {
   "cell_type": "code",
   "execution_count": 5,
   "id": "89280118",
   "metadata": {},
   "outputs": [
    {
     "name": "stdout",
     "output_type": "stream",
     "text": [
      "1\n"
     ]
    }
   ],
   "source": [
    "#internally: True converted to integer: int(True)\n",
    "print(int(True))"
   ]
  },
  {
   "cell_type": "code",
   "execution_count": 6,
   "id": "09e73000",
   "metadata": {},
   "outputs": [
    {
     "name": "stdout",
     "output_type": "stream",
     "text": [
      "0\n"
     ]
    }
   ],
   "source": [
    "print(int(False))"
   ]
  },
  {
   "cell_type": "code",
   "execution_count": 7,
   "id": "039adea9",
   "metadata": {},
   "outputs": [
    {
     "ename": "TypeError",
     "evalue": "unsupported operand type(s) for +: 'int' and 'str'",
     "output_type": "error",
     "traceback": [
      "\u001b[1;31m---------------------------------------------------------------------------\u001b[0m",
      "\u001b[1;31mTypeError\u001b[0m                                 Traceback (most recent call last)",
      "Cell \u001b[1;32mIn[7], line 1\u001b[0m\n\u001b[1;32m----> 1\u001b[0m a\u001b[38;5;241m=\u001b[39m\u001b[38;5;241m10\u001b[39m\u001b[38;5;241m+\u001b[39m\u001b[38;5;124m\"\u001b[39m\u001b[38;5;124m20\u001b[39m\u001b[38;5;124m\"\u001b[39m\n\u001b[0;32m      2\u001b[0m \u001b[38;5;28mprint\u001b[39m(a)\n",
      "\u001b[1;31mTypeError\u001b[0m: unsupported operand type(s) for +: 'int' and 'str'"
     ]
    }
   ],
   "source": [
    "a=10+\"20\"\n",
    "print(a)"
   ]
  },
  {
   "cell_type": "code",
   "execution_count": null,
   "id": "86a62cf8",
   "metadata": {},
   "outputs": [],
   "source": [
    "a=10+\"20\"# concatenate, summation..\n",
    "print(a)"
   ]
  },
  {
   "cell_type": "code",
   "execution_count": 8,
   "id": "98d70f43",
   "metadata": {},
   "outputs": [
    {
     "name": "stdout",
     "output_type": "stream",
     "text": [
      "1020\n"
     ]
    }
   ],
   "source": [
    "a=str(10)+\"20\"# concatenate\n",
    "print(a)"
   ]
  },
  {
   "cell_type": "code",
   "execution_count": 9,
   "id": "28d4c493",
   "metadata": {},
   "outputs": [
    {
     "name": "stdout",
     "output_type": "stream",
     "text": [
      "10 <class 'int'>\n",
      "10 <class 'str'>\n"
     ]
    }
   ],
   "source": [
    "a=10\n",
    "print(a, type(a))\n",
    "b=str(a)\n",
    "print(b, type(b))"
   ]
  },
  {
   "cell_type": "code",
   "execution_count": 10,
   "id": "4b3e195b",
   "metadata": {},
   "outputs": [
    {
     "name": "stdout",
     "output_type": "stream",
     "text": [
      "30\n"
     ]
    }
   ],
   "source": [
    "a=10+int(\"20\")# concatenate, summation..\n",
    "print(a)"
   ]
  },
  {
   "cell_type": "code",
   "execution_count": 11,
   "id": "408145ee",
   "metadata": {},
   "outputs": [
    {
     "name": "stdout",
     "output_type": "stream",
     "text": [
      "20 <class 'str'>\n",
      "20 <class 'int'>\n"
     ]
    }
   ],
   "source": [
    "a=\"20\"\n",
    "print(a, type(a))\n",
    "b=int(a)\n",
    "print(b, type(b))"
   ]
  },
  {
   "cell_type": "code",
   "execution_count": 12,
   "id": "b095fe71",
   "metadata": {},
   "outputs": [
    {
     "ename": "ValueError",
     "evalue": "invalid literal for int() with base 10: '123abc'",
     "output_type": "error",
     "traceback": [
      "\u001b[1;31m---------------------------------------------------------------------------\u001b[0m",
      "\u001b[1;31mValueError\u001b[0m                                Traceback (most recent call last)",
      "Cell \u001b[1;32mIn[12], line 2\u001b[0m\n\u001b[0;32m      1\u001b[0m a\u001b[38;5;241m=\u001b[39m\u001b[38;5;124m\"\u001b[39m\u001b[38;5;124m123abc\u001b[39m\u001b[38;5;124m\"\u001b[39m\n\u001b[1;32m----> 2\u001b[0m \u001b[38;5;28mprint\u001b[39m(\u001b[38;5;28mint\u001b[39m(a))\n",
      "\u001b[1;31mValueError\u001b[0m: invalid literal for int() with base 10: '123abc'"
     ]
    }
   ],
   "source": [
    "a=\"123abc\"\n",
    "print(int(a))\n"
   ]
  },
  {
   "cell_type": "code",
   "execution_count": 13,
   "id": "6d6f4471",
   "metadata": {},
   "outputs": [
    {
     "name": "stdout",
     "output_type": "stream",
     "text": [
      "314\n",
      "314\n"
     ]
    }
   ],
   "source": [
    "a=\"314\"\n",
    "b=int(a)\n",
    "print(4*10**0+1*10**1+3*10**2)\n",
    "print(b)"
   ]
  },
  {
   "cell_type": "code",
   "execution_count": 15,
   "id": "b2f85b77",
   "metadata": {},
   "outputs": [
    {
     "ename": "ValueError",
     "evalue": "invalid literal for int() with base 10: '314acf2'",
     "output_type": "error",
     "traceback": [
      "\u001b[1;31m---------------------------------------------------------------------------\u001b[0m",
      "\u001b[1;31mValueError\u001b[0m                                Traceback (most recent call last)",
      "Cell \u001b[1;32mIn[15], line 2\u001b[0m\n\u001b[0;32m      1\u001b[0m a\u001b[38;5;241m=\u001b[39m\u001b[38;5;124m\"\u001b[39m\u001b[38;5;124m314acf2\u001b[39m\u001b[38;5;124m\"\u001b[39m\n\u001b[1;32m----> 2\u001b[0m b\u001b[38;5;241m=\u001b[39m\u001b[38;5;28mint\u001b[39m(a)\n\u001b[0;32m      3\u001b[0m \u001b[38;5;28mprint\u001b[39m(b)\n",
      "\u001b[1;31mValueError\u001b[0m: invalid literal for int() with base 10: '314acf2'"
     ]
    }
   ],
   "source": [
    "a=\"314acf2\"\n",
    "b=int(a)\n",
    "print(b)"
   ]
  },
  {
   "cell_type": "code",
   "execution_count": 16,
   "id": "f168c994",
   "metadata": {},
   "outputs": [
    {
     "name": "stdout",
     "output_type": "stream",
     "text": [
      "51686642\n",
      "51686642\n"
     ]
    }
   ],
   "source": [
    "a=\"314acf2\"\n",
    "#a=10,b=11,c=12,d=13,e=14,f=15\n",
    "b=int(a, 16)\n",
    "print(b)\n",
    "print(2*16**0+15*16**1+12*16**2+10*16**3+4*16**4+1*16**5+3*16**6)"
   ]
  },
  {
   "cell_type": "code",
   "execution_count": 17,
   "id": "a359a61a",
   "metadata": {},
   "outputs": [
    {
     "name": "stdout",
     "output_type": "stream",
     "text": [
      "4595\n",
      "4595\n"
     ]
    }
   ],
   "source": [
    "a=\"27ab\"\n",
    "#a=10,b=11,c=12,d=13,e=14,f=15\n",
    "b=int(a, 12)\n",
    "print(b)\n",
    "print(11*12**0+10*12**1+7*12**2+2*12**3)"
   ]
  },
  {
   "cell_type": "code",
   "execution_count": 18,
   "id": "31996845",
   "metadata": {},
   "outputs": [
    {
     "ename": "ValueError",
     "evalue": "invalid literal for int() with base 11: '27ab'",
     "output_type": "error",
     "traceback": [
      "\u001b[1;31m---------------------------------------------------------------------------\u001b[0m",
      "\u001b[1;31mValueError\u001b[0m                                Traceback (most recent call last)",
      "Cell \u001b[1;32mIn[18], line 3\u001b[0m\n\u001b[0;32m      1\u001b[0m a\u001b[38;5;241m=\u001b[39m\u001b[38;5;124m\"\u001b[39m\u001b[38;5;124m27ab\u001b[39m\u001b[38;5;124m\"\u001b[39m\n\u001b[0;32m      2\u001b[0m \u001b[38;5;66;03m#a=10,b=11,c=12,d=13,e=14,f=15\u001b[39;00m\n\u001b[1;32m----> 3\u001b[0m b\u001b[38;5;241m=\u001b[39m\u001b[38;5;28mint\u001b[39m(a, \u001b[38;5;241m11\u001b[39m)\n\u001b[0;32m      4\u001b[0m \u001b[38;5;28mprint\u001b[39m(b)\n\u001b[0;32m      5\u001b[0m \u001b[38;5;28mprint\u001b[39m(\u001b[38;5;241m11\u001b[39m\u001b[38;5;241m*\u001b[39m\u001b[38;5;241m12\u001b[39m\u001b[38;5;241m*\u001b[39m\u001b[38;5;241m*\u001b[39m\u001b[38;5;241m0\u001b[39m\u001b[38;5;241m+\u001b[39m\u001b[38;5;241m10\u001b[39m\u001b[38;5;241m*\u001b[39m\u001b[38;5;241m12\u001b[39m\u001b[38;5;241m*\u001b[39m\u001b[38;5;241m*\u001b[39m\u001b[38;5;241m1\u001b[39m\u001b[38;5;241m+\u001b[39m\u001b[38;5;241m7\u001b[39m\u001b[38;5;241m*\u001b[39m\u001b[38;5;241m12\u001b[39m\u001b[38;5;241m*\u001b[39m\u001b[38;5;241m*\u001b[39m\u001b[38;5;241m2\u001b[39m\u001b[38;5;241m+\u001b[39m\u001b[38;5;241m2\u001b[39m\u001b[38;5;241m*\u001b[39m\u001b[38;5;241m12\u001b[39m\u001b[38;5;241m*\u001b[39m\u001b[38;5;241m*\u001b[39m\u001b[38;5;241m3\u001b[39m)\n",
      "\u001b[1;31mValueError\u001b[0m: invalid literal for int() with base 11: '27ab'"
     ]
    }
   ],
   "source": [
    "a=\"27ab\"\n",
    "#a=10,b=11,c=12,d=13,e=14,f=15\n",
    "b=int(a, 11)\n",
    "print(b)\n",
    "print(11*12**0+10*12**1+7*12**2+2*12**3)"
   ]
  },
  {
   "cell_type": "code",
   "execution_count": 20,
   "id": "c2a4af30",
   "metadata": {},
   "outputs": [
    {
     "name": "stdout",
     "output_type": "stream",
     "text": [
      "329\n",
      "329\n"
     ]
    }
   ],
   "source": [
    "a=\"27a\"\n",
    "#a=10,b=11,c=12,d=13,e=14,f=15\n",
    "b=int(a, 11)\n",
    "print(b)\n",
    "print(10*11**0+7*11**1+2*11**2)"
   ]
  },
  {
   "cell_type": "code",
   "execution_count": 21,
   "id": "abce28c9",
   "metadata": {},
   "outputs": [
    {
     "data": {
      "text/plain": [
       "100"
      ]
     },
     "execution_count": 21,
     "metadata": {},
     "output_type": "execute_result"
    }
   ],
   "source": [
    "10**2"
   ]
  },
  {
   "cell_type": "code",
   "execution_count": 22,
   "id": "a3a5b3cb",
   "metadata": {},
   "outputs": [
    {
     "data": {
      "text/plain": [
       "27"
      ]
     },
     "execution_count": 22,
     "metadata": {},
     "output_type": "execute_result"
    }
   ],
   "source": [
    "3**3"
   ]
  },
  {
   "cell_type": "code",
   "execution_count": 23,
   "id": "743dcaa0",
   "metadata": {},
   "outputs": [
    {
     "data": {
      "text/plain": [
       "625"
      ]
     },
     "execution_count": 23,
     "metadata": {},
     "output_type": "execute_result"
    }
   ],
   "source": [
    "5**4"
   ]
  },
  {
   "cell_type": "code",
   "execution_count": 1,
   "id": "efdf7c7b",
   "metadata": {},
   "outputs": [
    {
     "name": "stdout",
     "output_type": "stream",
     "text": [
      "1000\n"
     ]
    }
   ],
   "source": [
    "#arithmatic: **, //\n",
    "print(10**3)"
   ]
  },
  {
   "cell_type": "code",
   "execution_count": 2,
   "id": "d4b96ff9",
   "metadata": {},
   "outputs": [
    {
     "name": "stdout",
     "output_type": "stream",
     "text": [
      "3.3333333333333335\n",
      "3\n"
     ]
    }
   ],
   "source": [
    "print(10/3)\n",
    "print(10//3)"
   ]
  },
  {
   "cell_type": "code",
   "execution_count": 3,
   "id": "6e905e38",
   "metadata": {},
   "outputs": [
    {
     "name": "stdout",
     "output_type": "stream",
     "text": [
      "False\n"
     ]
    }
   ],
   "source": [
    "#boolean operations\n",
    "#>,<,>=,<=,==,!=,is,in,not,and,or\n",
    "print(10>20)"
   ]
  },
  {
   "cell_type": "code",
   "execution_count": 4,
   "id": "4ee3de75",
   "metadata": {},
   "outputs": [
    {
     "name": "stdout",
     "output_type": "stream",
     "text": [
      "True <class 'bool'>\n",
      "False <class 'bool'>\n"
     ]
    }
   ],
   "source": [
    "a=True\n",
    "print(a, type(a))\n",
    "a=False\n",
    "print(a, type(a))"
   ]
  },
  {
   "cell_type": "code",
   "execution_count": 5,
   "id": "bc29ac35",
   "metadata": {},
   "outputs": [
    {
     "data": {
      "text/plain": [
       "False"
      ]
     },
     "execution_count": 5,
     "metadata": {},
     "output_type": "execute_result"
    }
   ],
   "source": [
    "\"a\">\"b\""
   ]
  },
  {
   "cell_type": "code",
   "execution_count": 6,
   "id": "da45790d",
   "metadata": {},
   "outputs": [],
   "source": [
    "#a-z"
   ]
  },
  {
   "cell_type": "code",
   "execution_count": 7,
   "id": "3ce0079f",
   "metadata": {},
   "outputs": [
    {
     "data": {
      "text/plain": [
       "True"
      ]
     },
     "execution_count": 7,
     "metadata": {},
     "output_type": "execute_result"
    }
   ],
   "source": [
    "\"a\">\"A\""
   ]
  },
  {
   "cell_type": "code",
   "execution_count": 8,
   "id": "de23dc31",
   "metadata": {},
   "outputs": [
    {
     "data": {
      "text/plain": [
       "97"
      ]
     },
     "execution_count": 8,
     "metadata": {},
     "output_type": "execute_result"
    }
   ],
   "source": [
    "ord(\"a\")# return an ascii value."
   ]
  },
  {
   "cell_type": "code",
   "execution_count": 9,
   "id": "ca333312",
   "metadata": {},
   "outputs": [
    {
     "data": {
      "text/plain": [
       "65"
      ]
     },
     "execution_count": 9,
     "metadata": {},
     "output_type": "execute_result"
    }
   ],
   "source": [
    "ord(\"A\")# return an ascii value."
   ]
  },
  {
   "cell_type": "code",
   "execution_count": 10,
   "id": "8b7c3714",
   "metadata": {},
   "outputs": [
    {
     "data": {
      "text/plain": [
       "37"
      ]
     },
     "execution_count": 10,
     "metadata": {},
     "output_type": "execute_result"
    }
   ],
   "source": [
    "ord(\"%\")"
   ]
  },
  {
   "cell_type": "code",
   "execution_count": 11,
   "id": "c4d963b0",
   "metadata": {},
   "outputs": [
    {
     "data": {
      "text/plain": [
       "49"
      ]
     },
     "execution_count": 11,
     "metadata": {},
     "output_type": "execute_result"
    }
   ],
   "source": [
    "ord(\"1\")"
   ]
  },
  {
   "cell_type": "code",
   "execution_count": 12,
   "id": "f9aa7b61",
   "metadata": {},
   "outputs": [
    {
     "data": {
      "text/plain": [
       "True"
      ]
     },
     "execution_count": 12,
     "metadata": {},
     "output_type": "execute_result"
    }
   ],
   "source": [
    "\"apple\">\"ant\"# lexical comparison. a-a:==, p>n: "
   ]
  },
  {
   "cell_type": "code",
   "execution_count": 13,
   "id": "818cf231",
   "metadata": {},
   "outputs": [
    {
     "data": {
      "text/plain": [
       "True"
      ]
     },
     "execution_count": 13,
     "metadata": {},
     "output_type": "execute_result"
    }
   ],
   "source": [
    "\"apple\">\"apPle\"#a-a:, p-p: p>P"
   ]
  },
  {
   "cell_type": "code",
   "execution_count": 14,
   "id": "c4a99e26",
   "metadata": {},
   "outputs": [
    {
     "data": {
      "text/plain": [
       "112"
      ]
     },
     "execution_count": 14,
     "metadata": {},
     "output_type": "execute_result"
    }
   ],
   "source": [
    "ord(\"p\")"
   ]
  },
  {
   "cell_type": "code",
   "execution_count": 15,
   "id": "a1734cf2",
   "metadata": {},
   "outputs": [
    {
     "data": {
      "text/plain": [
       "80"
      ]
     },
     "execution_count": 15,
     "metadata": {},
     "output_type": "execute_result"
    }
   ],
   "source": [
    "ord(\"P\")"
   ]
  },
  {
   "cell_type": "code",
   "execution_count": 16,
   "id": "1a3cf137",
   "metadata": {},
   "outputs": [
    {
     "data": {
      "text/plain": [
       "True"
      ]
     },
     "execution_count": 16,
     "metadata": {},
     "output_type": "execute_result"
    }
   ],
   "source": [
    "112>80"
   ]
  },
  {
   "cell_type": "code",
   "execution_count": 17,
   "id": "e5ef2944",
   "metadata": {},
   "outputs": [
    {
     "data": {
      "text/plain": [
       "False"
      ]
     },
     "execution_count": 17,
     "metadata": {},
     "output_type": "execute_result"
    }
   ],
   "source": [
    "k1=[1,2,3,4]\n",
    "k2=[10,-20,-30,-40]\n",
    "k1>k2#lexical comparison: 1>10: False"
   ]
  },
  {
   "cell_type": "code",
   "execution_count": 18,
   "id": "966051f7",
   "metadata": {},
   "outputs": [
    {
     "data": {
      "text/plain": [
       "True"
      ]
     },
     "execution_count": 18,
     "metadata": {},
     "output_type": "execute_result"
    }
   ],
   "source": [
    "k1=[1,2,3,4]\n",
    "k2=[1,2,3,5]\n",
    "k2>k1#1-1:,2-2,3-3,5>4:True"
   ]
  },
  {
   "cell_type": "code",
   "execution_count": 19,
   "id": "27cf1714",
   "metadata": {},
   "outputs": [
    {
     "data": {
      "text/plain": [
       "False"
      ]
     },
     "execution_count": 19,
     "metadata": {},
     "output_type": "execute_result"
    }
   ],
   "source": [
    "s1={1,2,3,4}\n",
    "s2={1,2,3,40}\n",
    "s1<s2"
   ]
  },
  {
   "cell_type": "code",
   "execution_count": 20,
   "id": "bf20f8e5",
   "metadata": {},
   "outputs": [
    {
     "data": {
      "text/plain": [
       "False"
      ]
     },
     "execution_count": 20,
     "metadata": {},
     "output_type": "execute_result"
    }
   ],
   "source": [
    "s1={1,2,3,4}\n",
    "s2={1,2,3,40}\n",
    "s1>s2# sets will not follow lexical comparison. it will not compare based on length"
   ]
  },
  {
   "cell_type": "code",
   "execution_count": 21,
   "id": "557d3583",
   "metadata": {},
   "outputs": [
    {
     "data": {
      "text/plain": [
       "True"
      ]
     },
     "execution_count": 21,
     "metadata": {},
     "output_type": "execute_result"
    }
   ],
   "source": [
    "s1={1,2,5}\n",
    "s2={1,2,3,4,5,6,7}\n",
    "s1<s2#does s1 is subset of s2?"
   ]
  },
  {
   "cell_type": "code",
   "execution_count": 22,
   "id": "67e205f4",
   "metadata": {},
   "outputs": [
    {
     "data": {
      "text/plain": [
       "False"
      ]
     },
     "execution_count": 22,
     "metadata": {},
     "output_type": "execute_result"
    }
   ],
   "source": [
    "s1={1,2,5}\n",
    "s2={1,2,3,4,5,6,7}\n",
    "s1>s2#does s1 is super set of s2?"
   ]
  },
  {
   "cell_type": "code",
   "execution_count": 23,
   "id": "177a490b",
   "metadata": {},
   "outputs": [
    {
     "name": "stdout",
     "output_type": "stream",
     "text": [
      "True\n",
      "False\n",
      "False\n",
      "False\n"
     ]
    }
   ],
   "source": [
    "# and or tables?\n",
    "print(True and True)\n",
    "print(True and False)\n",
    "print(False and True)\n",
    "print(False and False)"
   ]
  },
  {
   "cell_type": "code",
   "execution_count": 24,
   "id": "9dffeac1",
   "metadata": {},
   "outputs": [
    {
     "name": "stdout",
     "output_type": "stream",
     "text": [
      "True\n",
      "True\n",
      "True\n",
      "False\n"
     ]
    }
   ],
   "source": [
    "# and or tables?\n",
    "print(True or True)\n",
    "print(True or False)\n",
    "print(False or True)\n",
    "print(False or False)"
   ]
  },
  {
   "cell_type": "code",
   "execution_count": 25,
   "id": "c4d7a687",
   "metadata": {},
   "outputs": [
    {
     "name": "stdout",
     "output_type": "stream",
     "text": [
      "False\n",
      "True\n",
      "True\n",
      "False\n"
     ]
    }
   ],
   "source": [
    "# XOR table..\n",
    "print(True != True)\n",
    "print(True != False)\n",
    "print(False != True)\n",
    "print(False != False)"
   ]
  },
  {
   "cell_type": "code",
   "execution_count": 26,
   "id": "3987640f",
   "metadata": {},
   "outputs": [
    {
     "data": {
      "text/plain": [
       "True"
      ]
     },
     "execution_count": 26,
     "metadata": {},
     "output_type": "execute_result"
    }
   ],
   "source": [
    "12>3 and 14>5# True and True"
   ]
  },
  {
   "cell_type": "code",
   "execution_count": 27,
   "id": "c7800770",
   "metadata": {},
   "outputs": [
    {
     "data": {
      "text/plain": [
       "False"
      ]
     },
     "execution_count": 27,
     "metadata": {},
     "output_type": "execute_result"
    }
   ],
   "source": [
    "12>3 and 14<5# True and False"
   ]
  },
  {
   "cell_type": "code",
   "execution_count": null,
   "id": "86930bc0",
   "metadata": {},
   "outputs": [],
   "source": []
  }
 ],
 "metadata": {
  "kernelspec": {
   "display_name": "Python 3 (ipykernel)",
   "language": "python",
   "name": "python3"
  },
  "language_info": {
   "codemirror_mode": {
    "name": "ipython",
    "version": 3
   },
   "file_extension": ".py",
   "mimetype": "text/x-python",
   "name": "python",
   "nbconvert_exporter": "python",
   "pygments_lexer": "ipython3",
   "version": "3.11.3"
  }
 },
 "nbformat": 4,
 "nbformat_minor": 5
}
