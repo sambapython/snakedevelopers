{
 "cells": [
  {
   "cell_type": "code",
   "execution_count": 1,
   "id": "d9b1aff5",
   "metadata": {},
   "outputs": [
    {
     "name": "stdout",
     "output_type": "stream",
     "text": [
      "hello\n"
     ]
    }
   ],
   "source": [
    "print(\"hello\")"
   ]
  },
  {
   "cell_type": "code",
   "execution_count": 2,
   "id": "71ced0c7",
   "metadata": {},
   "outputs": [
    {
     "name": "stdout",
     "output_type": "stream",
     "text": [
      "10\n",
      "20\n",
      "30\n"
     ]
    }
   ],
   "source": [
    "a=10\n",
    "b=20\n",
    "c=30\n",
    "print(a)\n",
    "print(b)\n",
    "print(c)"
   ]
  },
  {
   "cell_type": "code",
   "execution_count": 3,
   "id": "8101a346",
   "metadata": {},
   "outputs": [
    {
     "name": "stdout",
     "output_type": "stream",
     "text": [
      "10$20\n",
      "30\n"
     ]
    }
   ],
   "source": [
    "a=10\n",
    "b=20\n",
    "c=30\n",
    "print(a, end=\"$\")\n",
    "print(b)\n",
    "print(c)"
   ]
  },
  {
   "cell_type": "code",
   "execution_count": 5,
   "id": "f70a2d53",
   "metadata": {},
   "outputs": [
    {
     "name": "stdout",
     "output_type": "stream",
     "text": [
      "10 20 30\n"
     ]
    }
   ],
   "source": [
    "a=10\n",
    "b=20\n",
    "c=30\n",
    "print(a,b,c)"
   ]
  },
  {
   "cell_type": "code",
   "execution_count": 6,
   "id": "58e92326",
   "metadata": {},
   "outputs": [
    {
     "name": "stdout",
     "output_type": "stream",
     "text": [
      "10       20       30\n"
     ]
    }
   ],
   "source": [
    "a=10\n",
    "b=20\n",
    "c=30\n",
    "print(a,b,c, sep=\"       \")"
   ]
  },
  {
   "cell_type": "code",
   "execution_count": 7,
   "id": "d065ffd5",
   "metadata": {},
   "outputs": [
    {
     "name": "stdout",
     "output_type": "stream",
     "text": [
      "10$20$30\n"
     ]
    }
   ],
   "source": [
    "a=10\n",
    "b=20\n",
    "c=30\n",
    "print(a,b,c, sep=\"$\")"
   ]
  },
  {
   "cell_type": "code",
   "execution_count": 8,
   "id": "244de165",
   "metadata": {},
   "outputs": [
    {
     "name": "stdout",
     "output_type": "stream",
     "text": [
      "sdfdsfds dsfdsf dsfdsfs dsf dsf dsf dsf\n"
     ]
    }
   ],
   "source": [
    "print(\"sdfdsfds dsfdsf dsfdsfs dsf dsf dsf dsf\")"
   ]
  },
  {
   "cell_type": "code",
   "execution_count": 9,
   "id": "1e3489d0",
   "metadata": {},
   "outputs": [
    {
     "name": "stdout",
     "output_type": "stream",
     "text": [
      "sdfdsfds dsfdsf \n",
      "dsfdsfs dsf dsf dsf dsf\n"
     ]
    }
   ],
   "source": [
    "print(\"sdfdsfds dsfdsf \\ndsfdsfs dsf dsf dsf dsf\")"
   ]
  },
  {
   "cell_type": "code",
   "execution_count": 10,
   "id": "c1a73581",
   "metadata": {},
   "outputs": [
    {
     "name": "stdout",
     "output_type": "stream",
     "text": [
      "sdfdsfds dsfdsf \n",
      "dsfdsfs dsf \tdsf dsf dsf\n"
     ]
    }
   ],
   "source": [
    "print(\"sdfdsfds dsfdsf \\ndsfdsfs dsf \\tdsf dsf dsf\")"
   ]
  },
  {
   "cell_type": "code",
   "execution_count": 11,
   "id": "2a594b74",
   "metadata": {},
   "outputs": [
    {
     "name": "stdout",
     "output_type": "stream",
     "text": [
      "6\n"
     ]
    }
   ],
   "source": [
    "s=\"python\"\n",
    "print(len(s))"
   ]
  },
  {
   "cell_type": "code",
   "execution_count": 12,
   "id": "19c9a5ad",
   "metadata": {},
   "outputs": [
    {
     "name": "stdout",
     "output_type": "stream",
     "text": [
      "1\n"
     ]
    }
   ],
   "source": [
    "s=\"\\n\"\n",
    "print(len(s))"
   ]
  },
  {
   "cell_type": "code",
   "execution_count": 13,
   "id": "3a1644c8",
   "metadata": {},
   "outputs": [
    {
     "name": "stdout",
     "output_type": "stream",
     "text": [
      "2\n"
     ]
    }
   ],
   "source": [
    "s=\"a$\"\n",
    "print(len(s))"
   ]
  },
  {
   "cell_type": "code",
   "execution_count": 14,
   "id": "153d2af7",
   "metadata": {},
   "outputs": [
    {
     "name": "stdout",
     "output_type": "stream",
     "text": [
      "2\n"
     ]
    }
   ],
   "source": [
    "s=\"$f\"\n",
    "print(len(s))"
   ]
  },
  {
   "cell_type": "code",
   "execution_count": 15,
   "id": "ef5c4fd3",
   "metadata": {},
   "outputs": [
    {
     "name": "stdout",
     "output_type": "stream",
     "text": [
      "1\n"
     ]
    }
   ],
   "source": [
    "s=\"\\t\"\n",
    "print(len(s))"
   ]
  },
  {
   "cell_type": "code",
   "execution_count": 16,
   "id": "1258105b",
   "metadata": {},
   "outputs": [
    {
     "name": "stdout",
     "output_type": "stream",
     "text": [
      "sdfdsfds \n",
      "dsfdsf \n",
      "dsfdsfs dsf \tdsf dsf dsf\n"
     ]
    }
   ],
   "source": [
    "print(\"sdfdsfds \\ndsfdsf \\ndsfdsfs dsf \\tdsf dsf dsf\")"
   ]
  },
  {
   "cell_type": "code",
   "execution_count": 17,
   "id": "d977b72b",
   "metadata": {},
   "outputs": [
    {
     "name": "stdout",
     "output_type": "stream",
     "text": [
      "sdfdsfds \\ndsfdsf \\ndsfdsfs dsf \\tdsf dsf dsf\n"
     ]
    }
   ],
   "source": [
    "print(\"sdfdsfds \\\\ndsfdsf \\\\ndsfdsfs dsf \\\\tdsf dsf dsf\")"
   ]
  },
  {
   "cell_type": "code",
   "execution_count": null,
   "id": "572df5c8",
   "metadata": {},
   "outputs": [],
   "source": []
  }
 ],
 "metadata": {
  "kernelspec": {
   "display_name": "Python 3 (ipykernel)",
   "language": "python",
   "name": "python3"
  },
  "language_info": {
   "codemirror_mode": {
    "name": "ipython",
    "version": 3
   },
   "file_extension": ".py",
   "mimetype": "text/x-python",
   "name": "python",
   "nbconvert_exporter": "python",
   "pygments_lexer": "ipython3",
   "version": "3.11.3"
  }
 },
 "nbformat": 4,
 "nbformat_minor": 5
}
