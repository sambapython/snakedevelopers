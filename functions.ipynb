{
 "cells": [
  {
   "cell_type": "code",
   "execution_count": 3,
   "id": "301b1392",
   "metadata": {},
   "outputs": [
    {
     "name": "stdout",
     "output_type": "stream",
     "text": [
      "1\n",
      "3\n",
      "a=10,b=20\n",
      "result= 30\n",
      "hi\n",
      "hello\n",
      "a=100,b=200\n",
      "result= 300\n",
      "5\n",
      "6\n",
      "a=1000,b=2000\n",
      "result= 3000\n"
     ]
    }
   ],
   "source": [
    "print(\"1\")\n",
    "print(\"3\")\n",
    "a=10\n",
    "b=20\n",
    "print(f\"a={a},b={b}\")\n",
    "res=a+b\n",
    "print(\"result=\",res)\n",
    "print(\"hi\")\n",
    "print(\"hello\")\n",
    "x=100\n",
    "y=200\n",
    "print(f\"a={x},b={y}\")\n",
    "res=x+y\n",
    "print(\"result=\",res)\n",
    "print(\"5\")\n",
    "print(\"6\")\n",
    "x=1000\n",
    "y=2000\n",
    "print(f\"a={x},b={y}\")\n",
    "res=x+y\n",
    "print(\"result=\",res)\n"
   ]
  },
  {
   "cell_type": "code",
   "execution_count": 2,
   "id": "5965ba40",
   "metadata": {},
   "outputs": [
    {
     "name": "stdout",
     "output_type": "stream",
     "text": [
      "1\n",
      "3\n",
      "a=10,b=20\n",
      "result= 30\n",
      "hi\n",
      "hello\n",
      "a=100,b=200\n",
      "result= 300\n",
      "5\n",
      "6\n",
      "a=1000,b=2000\n",
      "result= 3000\n"
     ]
    }
   ],
   "source": [
    "def fun(a,b):\n",
    "    print(f\"a={a},b={b}\")\n",
    "    res=a+b\n",
    "    print(\"result=\",res)\n",
    "    \n",
    "print(\"1\")\n",
    "print(\"3\")\n",
    "fun(10,20)\n",
    "print(\"hi\")\n",
    "print(\"hello\")\n",
    "fun(100,200)\n",
    "print(\"5\")\n",
    "print(\"6\")\n",
    "fun(1000,2000)\n"
   ]
  },
  {
   "cell_type": "code",
   "execution_count": 4,
   "id": "690ea687",
   "metadata": {},
   "outputs": [
    {
     "name": "stdout",
     "output_type": "stream",
     "text": [
      "BANGLORE\n",
      "HYd\n"
     ]
    }
   ],
   "source": [
    "print(\"BANGLORE\")\n",
    "def hi_12():\n",
    "    print(\"HELLO\")\n",
    "    print(\"HI\")\n",
    "print(\"HYd\")"
   ]
  },
  {
   "cell_type": "code",
   "execution_count": 5,
   "id": "607e9a90",
   "metadata": {},
   "outputs": [
    {
     "name": "stdout",
     "output_type": "stream",
     "text": [
      "BANGLORE\n",
      "HYd\n",
      "HELLO\n",
      "HI\n",
      "1\n"
     ]
    }
   ],
   "source": [
    "print(\"BANGLORE\")\n",
    "def hi_12():\n",
    "    print(\"HELLO\")\n",
    "    print(\"HI\")\n",
    "print(\"HYd\")\n",
    "hi_12()\n",
    "print(\"1\")"
   ]
  },
  {
   "cell_type": "code",
   "execution_count": 6,
   "id": "9990bc37",
   "metadata": {},
   "outputs": [
    {
     "name": "stdout",
     "output_type": "stream",
     "text": [
      "BANGLORE\n",
      "HYd\n",
      "HELLO\n",
      "HI\n",
      "1\n",
      "HELLO\n",
      "HI\n",
      "2\n"
     ]
    }
   ],
   "source": [
    "print(\"BANGLORE\")\n",
    "def hi_12():\n",
    "    print(\"HELLO\")\n",
    "    print(\"HI\")\n",
    "print(\"HYd\")\n",
    "hi_12()\n",
    "print(\"1\")\n",
    "hi_12()\n",
    "print(\"2\")"
   ]
  },
  {
   "cell_type": "code",
   "execution_count": 7,
   "id": "917f1a93",
   "metadata": {},
   "outputs": [
    {
     "name": "stdout",
     "output_type": "stream",
     "text": [
      "BANGLORE\n",
      "HYd\n",
      "HELLO\n",
      "HI\n",
      "HELLO\n",
      "HI\n"
     ]
    }
   ],
   "source": [
    "print(\"BANGLORE\")\n",
    "def hi_12():\n",
    "    print(\"HELLO\")\n",
    "    print(\"HI\")\n",
    "print(\"HYd\")\n",
    "hi_12()\n",
    "hi_12()"
   ]
  },
  {
   "cell_type": "code",
   "execution_count": 8,
   "id": "050a129c",
   "metadata": {},
   "outputs": [
    {
     "name": "stdout",
     "output_type": "stream",
     "text": [
      "HI\n",
      "x=10, y=20\n",
      "result= 30\n",
      "HELLO\n",
      "x=100, y=200\n",
      "result= 300\n"
     ]
    }
   ],
   "source": [
    "def add(x,y):  #x,y are parameters\n",
    "    print(f\"x={x}, y={y}\")\n",
    "    res=x+y\n",
    "    print(\"result=\",res)\n",
    "print(\"HI\")\n",
    "add(10,20)# function call: 10,20 arguments.  positional arguments.\n",
    "print(\"HELLO\")\n",
    "add(100,200)"
   ]
  },
  {
   "cell_type": "code",
   "execution_count": 9,
   "id": "1fb146f5",
   "metadata": {},
   "outputs": [
    {
     "name": "stdout",
     "output_type": "stream",
     "text": [
      "HI\n",
      "x=20, y=10\n",
      "result= 30\n",
      "HELLO\n",
      "x=100, y=200\n",
      "result= 300\n"
     ]
    }
   ],
   "source": [
    "def add(x,y):  #x,y are parameters\n",
    "    print(f\"x={x}, y={y}\")\n",
    "    res=x+y\n",
    "    print(\"result=\",res)\n",
    "print(\"HI\")\n",
    "add(y=10,x=20)# function call: 10,20 arguments.  keyword arguments.\n",
    "print(\"HELLO\")\n",
    "add(x=100,y=200)"
   ]
  },
  {
   "cell_type": "code",
   "execution_count": 10,
   "id": "770591d2",
   "metadata": {},
   "outputs": [
    {
     "ename": "TypeError",
     "evalue": "add() takes 2 positional arguments but 3 were given",
     "output_type": "error",
     "traceback": [
      "\u001b[1;31m---------------------------------------------------------------------------\u001b[0m",
      "\u001b[1;31mTypeError\u001b[0m                                 Traceback (most recent call last)",
      "Cell \u001b[1;32mIn[10], line 5\u001b[0m\n\u001b[0;32m      3\u001b[0m     res\u001b[38;5;241m=\u001b[39mx\u001b[38;5;241m+\u001b[39my\n\u001b[0;32m      4\u001b[0m     \u001b[38;5;28mprint\u001b[39m(\u001b[38;5;124m\"\u001b[39m\u001b[38;5;124mresult=\u001b[39m\u001b[38;5;124m\"\u001b[39m,res)\n\u001b[1;32m----> 5\u001b[0m add(\u001b[38;5;241m10\u001b[39m,\u001b[38;5;241m20\u001b[39m,\u001b[38;5;241m30\u001b[39m)\n",
      "\u001b[1;31mTypeError\u001b[0m: add() takes 2 positional arguments but 3 were given"
     ]
    }
   ],
   "source": [
    "def add(x,y):  #x,y are parameters\n",
    "    print(f\"x={x}, y={y}\")\n",
    "    res=x+y\n",
    "    print(\"result=\",res)\n",
    "add(10,20,30)"
   ]
  },
  {
   "cell_type": "code",
   "execution_count": 11,
   "id": "432d4a99",
   "metadata": {},
   "outputs": [
    {
     "ename": "TypeError",
     "evalue": "add() missing 1 required positional argument: 'y'",
     "output_type": "error",
     "traceback": [
      "\u001b[1;31m---------------------------------------------------------------------------\u001b[0m",
      "\u001b[1;31mTypeError\u001b[0m                                 Traceback (most recent call last)",
      "Cell \u001b[1;32mIn[11], line 5\u001b[0m\n\u001b[0;32m      3\u001b[0m     res\u001b[38;5;241m=\u001b[39mx\u001b[38;5;241m+\u001b[39my\n\u001b[0;32m      4\u001b[0m     \u001b[38;5;28mprint\u001b[39m(\u001b[38;5;124m\"\u001b[39m\u001b[38;5;124mresult=\u001b[39m\u001b[38;5;124m\"\u001b[39m,res)\n\u001b[1;32m----> 5\u001b[0m add(\u001b[38;5;241m10\u001b[39m)\n",
      "\u001b[1;31mTypeError\u001b[0m: add() missing 1 required positional argument: 'y'"
     ]
    }
   ],
   "source": [
    "def add(x,y):  #x,y are parameters\n",
    "    print(f\"x={x}, y={y}\")\n",
    "    res=x+y\n",
    "    print(\"result=\",res)\n",
    "add(10)"
   ]
  },
  {
   "cell_type": "code",
   "execution_count": 12,
   "id": "23b16c1c",
   "metadata": {},
   "outputs": [
    {
     "ename": "TypeError",
     "evalue": "add() got multiple values for argument 'x'",
     "output_type": "error",
     "traceback": [
      "\u001b[1;31m---------------------------------------------------------------------------\u001b[0m",
      "\u001b[1;31mTypeError\u001b[0m                                 Traceback (most recent call last)",
      "Cell \u001b[1;32mIn[12], line 5\u001b[0m\n\u001b[0;32m      3\u001b[0m     res\u001b[38;5;241m=\u001b[39mx\u001b[38;5;241m+\u001b[39my\n\u001b[0;32m      4\u001b[0m     \u001b[38;5;28mprint\u001b[39m(\u001b[38;5;124m\"\u001b[39m\u001b[38;5;124mresult=\u001b[39m\u001b[38;5;124m\"\u001b[39m,res)\n\u001b[1;32m----> 5\u001b[0m add(\u001b[38;5;241m10\u001b[39m,y\u001b[38;5;241m=\u001b[39m\u001b[38;5;241m20\u001b[39m,x\u001b[38;5;241m=\u001b[39m\u001b[38;5;241m100\u001b[39m)\n",
      "\u001b[1;31mTypeError\u001b[0m: add() got multiple values for argument 'x'"
     ]
    }
   ],
   "source": [
    "def add(x,y):  #x,y are parameters\n",
    "    print(f\"x={x}, y={y}\")\n",
    "    res=x+y\n",
    "    print(\"result=\",res)\n",
    "add(10,y=20,x=100)"
   ]
  },
  {
   "cell_type": "code",
   "execution_count": 13,
   "id": "408d6144",
   "metadata": {},
   "outputs": [
    {
     "name": "stdout",
     "output_type": "stream",
     "text": [
      "x=10, y=20\n",
      "result= 30\n"
     ]
    }
   ],
   "source": [
    "def add(x,y):  #x,y are parameters\n",
    "    print(f\"x={x}, y={y}\")\n",
    "    res=x+y\n",
    "    print(\"result=\",res)\n",
    "add(10,y=20)"
   ]
  },
  {
   "cell_type": "code",
   "execution_count": 14,
   "id": "02895f72",
   "metadata": {},
   "outputs": [
    {
     "name": "stdout",
     "output_type": "stream",
     "text": [
      "a=10,b=0,c=0,d=0\n",
      "a=10,b=20,c=30,d=0\n",
      "a=10,b=20,c=30,d=40\n",
      "a=10,b=20,c=0,d=0\n"
     ]
    }
   ],
   "source": [
    "# define a function which takes one or two or three or four number of arguments.\n",
    "def add(a,b=0,c=0,d=0):# a is mandatory. b,c,d are optional parameters\n",
    "    print(f\"a={a},b={b},c={c},d={d}\")\n",
    "add(10)\n",
    "add(10,20,30)\n",
    "add(10,20,30,40)\n",
    "add(10,20)"
   ]
  },
  {
   "cell_type": "code",
   "execution_count": 15,
   "id": "baeceef5",
   "metadata": {},
   "outputs": [
    {
     "name": "stdout",
     "output_type": "stream",
     "text": [
      "a=10,b=0,c=0,d=0\n",
      "a=20,b=30,c=0,d=10\n",
      "a=40,b=30,c=10,d=20\n",
      "a=10,b=0,c=0,d=20\n"
     ]
    }
   ],
   "source": [
    "# define a function which takes one or two or three or four number of arguments.\n",
    "def add(a,b=0,c=0,d=0):# a is mandatory. b,c,d are optional parameters\n",
    "    print(f\"a={a},b={b},c={c},d={d}\")\n",
    "add(10)\n",
    "add(d=10,a=20,b=30)\n",
    "add(c=10,d=20,b=30,a=40)\n",
    "add(10,d=20)"
   ]
  },
  {
   "cell_type": "code",
   "execution_count": 1,
   "id": "7a136804",
   "metadata": {},
   "outputs": [
    {
     "name": "stdout",
     "output_type": "stream",
     "text": [
      "x=3000, y=4000\n",
      "a=1000,b=2000,z=6000\n",
      "a=1000,b=2000,c=3000,d=4000\n"
     ]
    }
   ],
   "source": [
    "a=1000\n",
    "b=2000\n",
    "c=3000\n",
    "d=4000\n",
    "def add(x,y):\n",
    "    print(f\"x={x}, y={y}\")\n",
    "    z=y+b\n",
    "    print(f\"a={a},b={b},z={z}\")\n",
    "l=[1000,2000,3000]\n",
    "add(c,d)#x=c,y=d\n",
    "print(f\"a={a},b={b},c={c},d={d}\")"
   ]
  },
  {
   "cell_type": "code",
   "execution_count": 1,
   "id": "3d3795d1",
   "metadata": {},
   "outputs": [
    {
     "name": "stdout",
     "output_type": "stream",
     "text": [
      "[1000, 2500, 3500, 4000]\n"
     ]
    }
   ],
   "source": [
    "k=[1000,2000,3000,4000]\n",
    "def modify(x, index, value):\n",
    "    x[index]=value\n",
    "modify(k,1,2500)\n",
    "modify(k,2,3500)\n",
    "print(k)"
   ]
  },
  {
   "cell_type": "code",
   "execution_count": 2,
   "id": "435cf27f",
   "metadata": {},
   "outputs": [
    {
     "name": "stdout",
     "output_type": "stream",
     "text": [
      "x=1,y=0,x=0,p=0\n",
      "x=1,y=2,x=0,p=0\n",
      "x=1,y=2,x=3,p=0\n",
      "x=1,y=2,x=3,p=4\n"
     ]
    }
   ],
   "source": [
    "def add(x,y=0,z=0,p=0):\n",
    "    print(f\"x={x},y={y},x={z},p={p}\")\n",
    "add(1)\n",
    "add(1,2)\n",
    "add(1,2,3)\n",
    "add(1,2,3,4)"
   ]
  },
  {
   "cell_type": "code",
   "execution_count": 3,
   "id": "1d0df76d",
   "metadata": {},
   "outputs": [
    {
     "name": "stdout",
     "output_type": "stream",
     "text": [
      "k=(1,), type_k=<class 'tuple'>\n",
      "k=(1, 2), type_k=<class 'tuple'>\n",
      "k=(1, 2, 3, 4, 5, 6, 7, 8), type_k=<class 'tuple'>\n",
      "k=(10, 20, 30, 40, 50, 60, 70, 80, 90, 100, 110, 120, 130, 140), type_k=<class 'tuple'>\n"
     ]
    }
   ],
   "source": [
    "def add(*k):# *args\n",
    "    print(f\"k={k}, type_k={type(k)}\")\n",
    "add(1)\n",
    "add(1,2)\n",
    "add(1,2,3,4,5,6,7,8)\n",
    "add(10,20,30,40,50,60,70,80,90,100,110,120,130,140)"
   ]
  },
  {
   "cell_type": "code",
   "execution_count": 4,
   "id": "7a6141a4",
   "metadata": {},
   "outputs": [
    {
     "name": "stdout",
     "output_type": "stream",
     "text": [
      "x=10,y=20,k=(30, 40, 50, 60)\n",
      "x=10,y=0,k=()\n"
     ]
    }
   ],
   "source": [
    "def add(x, y=0, *k):\n",
    "    print(f\"x={x},y={y},k={k}\")\n",
    "add(10,20,30,40,50,60)\n",
    "add(10)"
   ]
  },
  {
   "cell_type": "code",
   "execution_count": 5,
   "id": "ad906910",
   "metadata": {},
   "outputs": [
    {
     "ename": "SyntaxError",
     "evalue": "positional argument follows keyword argument (1584270788.py, line 3)",
     "output_type": "error",
     "traceback": [
      "\u001b[1;36m  Cell \u001b[1;32mIn[5], line 3\u001b[1;36m\u001b[0m\n\u001b[1;33m    add(y=25,x=35,12,34,56)\u001b[0m\n\u001b[1;37m                          ^\u001b[0m\n\u001b[1;31mSyntaxError\u001b[0m\u001b[1;31m:\u001b[0m positional argument follows keyword argument\n"
     ]
    }
   ],
   "source": [
    "def add(x, y=0, *k):\n",
    "    print(f\"x={x},y={y},k={k}\")\n",
    "add(y=25,x=35,12,34,56)"
   ]
  },
  {
   "cell_type": "code",
   "execution_count": 6,
   "id": "bf31cca0",
   "metadata": {},
   "outputs": [
    {
     "name": "stdout",
     "output_type": "stream",
     "text": [
      "x=35,y=25,k=()\n"
     ]
    }
   ],
   "source": [
    "def add(x, y=0, *k):\n",
    "    print(f\"x={x},y={y},k={k}\")\n",
    "add(y=25,x=35)"
   ]
  },
  {
   "cell_type": "code",
   "execution_count": 7,
   "id": "9bec33c4",
   "metadata": {},
   "outputs": [
    {
     "ename": "TypeError",
     "evalue": "add() got an unexpected keyword argument 'p'",
     "output_type": "error",
     "traceback": [
      "\u001b[1;31m---------------------------------------------------------------------------\u001b[0m",
      "\u001b[1;31mTypeError\u001b[0m                                 Traceback (most recent call last)",
      "Cell \u001b[1;32mIn[7], line 3\u001b[0m\n\u001b[0;32m      1\u001b[0m \u001b[38;5;28;01mdef\u001b[39;00m \u001b[38;5;21madd\u001b[39m(x, y\u001b[38;5;241m=\u001b[39m\u001b[38;5;241m0\u001b[39m, \u001b[38;5;241m*\u001b[39mk):\n\u001b[0;32m      2\u001b[0m     \u001b[38;5;28mprint\u001b[39m(\u001b[38;5;124mf\u001b[39m\u001b[38;5;124m\"\u001b[39m\u001b[38;5;124mx=\u001b[39m\u001b[38;5;132;01m{\u001b[39;00mx\u001b[38;5;132;01m}\u001b[39;00m\u001b[38;5;124m,y=\u001b[39m\u001b[38;5;132;01m{\u001b[39;00my\u001b[38;5;132;01m}\u001b[39;00m\u001b[38;5;124m,k=\u001b[39m\u001b[38;5;132;01m{\u001b[39;00mk\u001b[38;5;132;01m}\u001b[39;00m\u001b[38;5;124m\"\u001b[39m)\n\u001b[1;32m----> 3\u001b[0m add(y\u001b[38;5;241m=\u001b[39m\u001b[38;5;241m25\u001b[39m,x\u001b[38;5;241m=\u001b[39m\u001b[38;5;241m35\u001b[39m,p\u001b[38;5;241m=\u001b[39m\u001b[38;5;241m12\u001b[39m,q\u001b[38;5;241m=\u001b[39m\u001b[38;5;241m34\u001b[39m,r\u001b[38;5;241m=\u001b[39m\u001b[38;5;241m56\u001b[39m)\n",
      "\u001b[1;31mTypeError\u001b[0m: add() got an unexpected keyword argument 'p'"
     ]
    }
   ],
   "source": [
    "def add(x, y=0, *k):\n",
    "    print(f\"x={x},y={y},k={k}\")\n",
    "add(y=25,x=35,p=12,q=34,r=56)"
   ]
  },
  {
   "cell_type": "code",
   "execution_count": 8,
   "id": "c4077467",
   "metadata": {},
   "outputs": [
    {
     "name": "stdout",
     "output_type": "stream",
     "text": [
      "x=35,y=25,k=(),a={'p': 12, 'q': 34, 'r': 56}\n"
     ]
    }
   ],
   "source": [
    "def add(x, y=0, *k, **a):\n",
    "    print(f\"x={x},y={y},k={k},a={a}\")\n",
    "add(y=25,x=35,p=12,q=34,r=56)"
   ]
  },
  {
   "cell_type": "code",
   "execution_count": 9,
   "id": "df1cb909",
   "metadata": {},
   "outputs": [
    {
     "name": "stdout",
     "output_type": "stream",
     "text": [
      "x=10,y=20,k=(30, 40),a={'p': 12, 'q': 34, 'r': 56, 's': 78}\n"
     ]
    }
   ],
   "source": [
    "def add(x, y=0, *k, **a):\n",
    "    print(f\"x={x},y={y},k={k},a={a}\")\n",
    "add(10,20,30,40,p=12,q=34,r=56,s=78)"
   ]
  },
  {
   "cell_type": "code",
   "execution_count": 10,
   "id": "a744814d",
   "metadata": {},
   "outputs": [
    {
     "ename": "TypeError",
     "evalue": "add() got multiple values for argument 'x'",
     "output_type": "error",
     "traceback": [
      "\u001b[1;31m---------------------------------------------------------------------------\u001b[0m",
      "\u001b[1;31mTypeError\u001b[0m                                 Traceback (most recent call last)",
      "Cell \u001b[1;32mIn[10], line 3\u001b[0m\n\u001b[0;32m      1\u001b[0m \u001b[38;5;28;01mdef\u001b[39;00m \u001b[38;5;21madd\u001b[39m(x, y\u001b[38;5;241m=\u001b[39m\u001b[38;5;241m0\u001b[39m, \u001b[38;5;241m*\u001b[39mk, \u001b[38;5;241m*\u001b[39m\u001b[38;5;241m*\u001b[39ma):\n\u001b[0;32m      2\u001b[0m     \u001b[38;5;28mprint\u001b[39m(\u001b[38;5;124mf\u001b[39m\u001b[38;5;124m\"\u001b[39m\u001b[38;5;124mx=\u001b[39m\u001b[38;5;132;01m{\u001b[39;00mx\u001b[38;5;132;01m}\u001b[39;00m\u001b[38;5;124m,y=\u001b[39m\u001b[38;5;132;01m{\u001b[39;00my\u001b[38;5;132;01m}\u001b[39;00m\u001b[38;5;124m,k=\u001b[39m\u001b[38;5;132;01m{\u001b[39;00mk\u001b[38;5;132;01m}\u001b[39;00m\u001b[38;5;124m,a=\u001b[39m\u001b[38;5;132;01m{\u001b[39;00ma\u001b[38;5;132;01m}\u001b[39;00m\u001b[38;5;124m\"\u001b[39m)\n\u001b[1;32m----> 3\u001b[0m add(\u001b[38;5;241m10\u001b[39m,\u001b[38;5;241m20\u001b[39m,\u001b[38;5;241m30\u001b[39m,\u001b[38;5;241m40\u001b[39m,p\u001b[38;5;241m=\u001b[39m\u001b[38;5;241m12\u001b[39m,x\u001b[38;5;241m=\u001b[39m\u001b[38;5;241m34\u001b[39m,r\u001b[38;5;241m=\u001b[39m\u001b[38;5;241m56\u001b[39m,s\u001b[38;5;241m=\u001b[39m\u001b[38;5;241m78\u001b[39m)\n",
      "\u001b[1;31mTypeError\u001b[0m: add() got multiple values for argument 'x'"
     ]
    }
   ],
   "source": [
    "def add(x, y=0, *k, **a):\n",
    "    print(f\"x={x},y={y},k={k},a={a}\")\n",
    "add(10,20,30,40,p=12,x=34,r=56,s=78)"
   ]
  },
  {
   "cell_type": "code",
   "execution_count": 11,
   "id": "a176ad59",
   "metadata": {},
   "outputs": [
    {
     "name": "stdout",
     "output_type": "stream",
     "text": [
      "this is function\n",
      "result= None\n"
     ]
    }
   ],
   "source": [
    "def add():\n",
    "    print(\"this is function\")\n",
    "res=add()\n",
    "print(\"result=\",res)"
   ]
  },
  {
   "cell_type": "code",
   "execution_count": 12,
   "id": "3d4445c8",
   "metadata": {},
   "outputs": [
    {
     "name": "stdout",
     "output_type": "stream",
     "text": [
      "x=10,y=20\n",
      "result= None\n"
     ]
    }
   ],
   "source": [
    "def add(x,y):\n",
    "    print(f\"x={x},y={y}\")\n",
    "    z=x+y\n",
    "    \n",
    "res=add(10,20)\n",
    "print(\"result=\",res)"
   ]
  },
  {
   "cell_type": "code",
   "execution_count": 13,
   "id": "e00332e3",
   "metadata": {},
   "outputs": [
    {
     "name": "stdout",
     "output_type": "stream",
     "text": [
      "x=10,y=20\n",
      "result= GTHU\n"
     ]
    }
   ],
   "source": [
    "def add(x,y):\n",
    "    print(f\"x={x},y={y}\")\n",
    "    z=x+y\n",
    "    return \"GTHU\"\n",
    "res=add(10,20)\n",
    "print(\"result=\",res)"
   ]
  },
  {
   "cell_type": "code",
   "execution_count": 14,
   "id": "42b701bd",
   "metadata": {},
   "outputs": [
    {
     "name": "stdout",
     "output_type": "stream",
     "text": [
      "x=10,y=20\n",
      "result= 30\n"
     ]
    }
   ],
   "source": [
    "def add(x,y):\n",
    "    print(f\"x={x},y={y}\")\n",
    "    z=x+y\n",
    "    return z\n",
    "res=add(10,20)\n",
    "print(\"result=\",res)"
   ]
  },
  {
   "cell_type": "code",
   "execution_count": 15,
   "id": "87000ae3",
   "metadata": {},
   "outputs": [
    {
     "name": "stdout",
     "output_type": "stream",
     "text": [
      "x=10,y=20\n",
      "result= 30\n"
     ]
    }
   ],
   "source": [
    "def add(x,y):\n",
    "    print(f\"x={x},y={y}\")\n",
    "    z=x+y\n",
    "    return z\n",
    "    print(\"hello\")\n",
    "    return \"HELLO\"\n",
    "res=add(10,20)\n",
    "print(\"result=\",res)"
   ]
  },
  {
   "cell_type": "code",
   "execution_count": 16,
   "id": "aa3da737",
   "metadata": {},
   "outputs": [
    {
     "name": "stdout",
     "output_type": "stream",
     "text": [
      "HELLO\n",
      "RESULT= 20\n",
      "HI\n",
      "RESULT= 30\n"
     ]
    }
   ],
   "source": [
    "def check(x):\n",
    "    if x!=0:#0!=0\n",
    "        print(\"HELLO\")\n",
    "        return 20\n",
    "    print(\"HI\")\n",
    "    return 30\n",
    "res=check(10)\n",
    "print(\"RESULT=\",res)\n",
    "res=check(0)\n",
    "print(\"RESULT=\",res)"
   ]
  },
  {
   "cell_type": "code",
   "execution_count": 1,
   "id": "1b651dec",
   "metadata": {},
   "outputs": [
    {
     "name": "stdout",
     "output_type": "stream",
     "text": [
      "started\n",
      "ended\n"
     ]
    }
   ],
   "source": [
    "print(\"started\")\n",
    "def fun():\n",
    "    print(\"fun started\")\n",
    "    print(\"fun ended\")\n",
    "print(\"ended\")"
   ]
  },
  {
   "cell_type": "code",
   "execution_count": 2,
   "id": "021b9027",
   "metadata": {},
   "outputs": [
    {
     "name": "stdout",
     "output_type": "stream",
     "text": [
      "started\n",
      "ended\n",
      "fun started\n",
      "fun ended\n"
     ]
    }
   ],
   "source": [
    "print(\"started\")\n",
    "def fun():\n",
    "    print(\"fun started\")\n",
    "    print(\"fun ended\")\n",
    "print(\"ended\")\n",
    "fun()# function call"
   ]
  },
  {
   "cell_type": "code",
   "execution_count": 3,
   "id": "3d3ffd3e",
   "metadata": {},
   "outputs": [
    {
     "name": "stdout",
     "output_type": "stream",
     "text": [
      "started\n",
      "ended\n",
      "fun started\n",
      "fun ended\n",
      "HELLO\n",
      "fun started\n",
      "fun ended\n"
     ]
    }
   ],
   "source": [
    "print(\"started\")\n",
    "def fun():\n",
    "    print(\"fun started\")\n",
    "    print(\"fun ended\")\n",
    "print(\"ended\")\n",
    "fun()# function call\n",
    "print(\"HELLO\")\n",
    "fun()"
   ]
  },
  {
   "cell_type": "code",
   "execution_count": 4,
   "id": "b8f13763",
   "metadata": {},
   "outputs": [
    {
     "name": "stdout",
     "output_type": "stream",
     "text": [
      "started\n",
      "fun started\n",
      "fun ended\n",
      "result= 20\n",
      "ended\n"
     ]
    }
   ],
   "source": [
    "print(\"started\")\n",
    "def fun():\n",
    "    print(\"fun started\")\n",
    "    print(\"fun ended\")\n",
    "    return 20\n",
    "res=fun()\n",
    "print(\"result=\", res)\n",
    "print(\"ended\")\n"
   ]
  },
  {
   "cell_type": "code",
   "execution_count": 5,
   "id": "ee07a851",
   "metadata": {},
   "outputs": [
    {
     "name": "stdout",
     "output_type": "stream",
     "text": [
      "started\n",
      "result= <generator object fun at 0x0000018CE4D28AC0>\n",
      "ended\n"
     ]
    }
   ],
   "source": [
    "print(\"started\")\n",
    "def fun():\n",
    "    print(\"fun started\")\n",
    "    print(\"fun ended\")\n",
    "    yield 20\n",
    "res=fun()\n",
    "print(\"result=\", res)\n",
    "print(\"ended\")\n"
   ]
  },
  {
   "cell_type": "code",
   "execution_count": 6,
   "id": "0d5635f5",
   "metadata": {},
   "outputs": [
    {
     "name": "stdout",
     "output_type": "stream",
     "text": [
      "started\n",
      "result= <generator object fun at 0x0000018CE4D287C0>\n",
      "ended\n"
     ]
    }
   ],
   "source": [
    "print(\"started\")\n",
    "def fun():\n",
    "    print(\"1\")\n",
    "    yield 10\n",
    "    print(\"2\")\n",
    "    yield 20\n",
    "    print(\"3\")\n",
    "    yield 30\n",
    "    print(\"4\")\n",
    "    yield 40\n",
    "res=fun()\n",
    "print(\"result=\", res)\n",
    "print(\"ended\")\n"
   ]
  },
  {
   "cell_type": "code",
   "execution_count": 7,
   "id": "4831a0cc",
   "metadata": {},
   "outputs": [
    {
     "name": "stdout",
     "output_type": "stream",
     "text": [
      "started\n",
      "result= <generator object fun at 0x0000018CE4D28AC0>\n",
      "1\n",
      "r1= 10\n",
      "2\n",
      "r2= 20\n",
      "ended\n"
     ]
    }
   ],
   "source": [
    "print(\"started\")\n",
    "def fun():\n",
    "    print(\"1\")\n",
    "    yield 10\n",
    "    print(\"2\")\n",
    "    yield 20\n",
    "    print(\"3\")\n",
    "    yield 30\n",
    "    print(\"4\")\n",
    "    yield 40\n",
    "res=fun()\n",
    "print(\"result=\", res)\n",
    "r1=next(res)\n",
    "print(\"r1=\",r1)\n",
    "r2=next(res)\n",
    "print(\"r2=\",r2)\n",
    "print(\"ended\")\n"
   ]
  },
  {
   "cell_type": "code",
   "execution_count": 8,
   "id": "07a9983f",
   "metadata": {},
   "outputs": [
    {
     "name": "stdout",
     "output_type": "stream",
     "text": [
      "started\n",
      "result= <generator object fun at 0x0000018CE4D287C0>\n",
      "1\n",
      "r1= 10\n",
      "2\n",
      "r2= 20\n",
      "3\n",
      "r3= 30\n"
     ]
    },
    {
     "ename": "StopIteration",
     "evalue": "",
     "output_type": "error",
     "traceback": [
      "\u001b[1;31m---------------------------------------------------------------------------\u001b[0m",
      "\u001b[1;31mStopIteration\u001b[0m                             Traceback (most recent call last)",
      "Cell \u001b[1;32mIn[8], line 17\u001b[0m\n\u001b[0;32m     15\u001b[0m r3\u001b[38;5;241m=\u001b[39m\u001b[38;5;28mnext\u001b[39m(res)\n\u001b[0;32m     16\u001b[0m \u001b[38;5;28mprint\u001b[39m(\u001b[38;5;124m\"\u001b[39m\u001b[38;5;124mr3=\u001b[39m\u001b[38;5;124m\"\u001b[39m,r3)\n\u001b[1;32m---> 17\u001b[0m r4\u001b[38;5;241m=\u001b[39m\u001b[38;5;28mnext\u001b[39m(res)\n\u001b[0;32m     18\u001b[0m \u001b[38;5;28mprint\u001b[39m(\u001b[38;5;124m\"\u001b[39m\u001b[38;5;124mr4=\u001b[39m\u001b[38;5;124m\"\u001b[39m,r4)\n\u001b[0;32m     19\u001b[0m \u001b[38;5;28mprint\u001b[39m(\u001b[38;5;124m\"\u001b[39m\u001b[38;5;124mended\u001b[39m\u001b[38;5;124m\"\u001b[39m)\n",
      "\u001b[1;31mStopIteration\u001b[0m: "
     ]
    }
   ],
   "source": [
    "print(\"started\")\n",
    "def fun():\n",
    "    print(\"1\")\n",
    "    yield 10\n",
    "    print(\"2\")\n",
    "    yield 20\n",
    "    print(\"3\")\n",
    "    yield 30\n",
    "res=fun()\n",
    "print(\"result=\", res)\n",
    "r1=next(res)\n",
    "print(\"r1=\",r1)\n",
    "r2=next(res)\n",
    "print(\"r2=\",r2)\n",
    "r3=next(res)\n",
    "print(\"r3=\",r3)\n",
    "r4=next(res)\n",
    "print(\"r4=\",r4)\n",
    "print(\"ended\")\n"
   ]
  },
  {
   "cell_type": "code",
   "execution_count": 9,
   "id": "45ff229a",
   "metadata": {},
   "outputs": [
    {
     "name": "stdout",
     "output_type": "stream",
     "text": [
      "apple\n",
      "orange\n",
      "grape\n"
     ]
    }
   ],
   "source": [
    "fruits=[\"apple\",\"orange\",\"grape\"]\n",
    "for fruit in fruits:\n",
    "    print(fruit)\n",
    "    "
   ]
  },
  {
   "cell_type": "code",
   "execution_count": 10,
   "id": "cb02bb35",
   "metadata": {},
   "outputs": [
    {
     "name": "stdout",
     "output_type": "stream",
     "text": [
      "started\n",
      "result= <generator object fun at 0x0000018CE59CA5C0>\n",
      "1\n",
      "i= 10\n",
      "HI\n",
      "2\n",
      "i= 20\n",
      "HI\n",
      "3\n",
      "i= 30\n",
      "HI\n",
      "ended\n"
     ]
    }
   ],
   "source": [
    "print(\"started\")\n",
    "def fun():\n",
    "    print(\"1\")\n",
    "    yield 10\n",
    "    print(\"2\")\n",
    "    yield 20\n",
    "    print(\"3\")\n",
    "    yield 30\n",
    "res=fun()\n",
    "print(\"result=\", res)\n",
    "for i in res:#next(res)\n",
    "    print(\"i=\",i)\n",
    "    print(\"HI\")\n",
    "print(\"ended\")\n"
   ]
  },
  {
   "cell_type": "code",
   "execution_count": 11,
   "id": "21f8b88b",
   "metadata": {},
   "outputs": [
    {
     "name": "stdout",
     "output_type": "stream",
     "text": [
      "started\n",
      "1\n",
      "result= 10\n",
      "1\n",
      "res1= 10\n",
      "1\n",
      "res2= 10\n",
      "ended\n"
     ]
    }
   ],
   "source": [
    "print(\"started\")\n",
    "def fun():\n",
    "    print(\"1\")\n",
    "    return 10\n",
    "    print(\"2\")\n",
    "    return 20\n",
    "    print(\"3\")\n",
    "    return 30\n",
    "res=fun()\n",
    "print(\"result=\", res)\n",
    "res1=fun()\n",
    "print(\"res1=\",res1)\n",
    "res2=fun()\n",
    "print(\"res2=\",res2)\n",
    "print(\"ended\")\n"
   ]
  },
  {
   "cell_type": "code",
   "execution_count": 12,
   "id": "5ab35d46",
   "metadata": {},
   "outputs": [
    {
     "name": "stdout",
     "output_type": "stream",
     "text": [
      "started\n",
      "result= [10, 20, 30]\n",
      "i= 10\n",
      "HI\n",
      "i= 20\n",
      "HI\n",
      "i= 30\n",
      "HI\n",
      "ended\n"
     ]
    }
   ],
   "source": [
    "print(\"started\")\n",
    "def fun():\n",
    "    return [10,20,30]\n",
    "res=fun()\n",
    "print(\"result=\", res)\n",
    "for i in res:\n",
    "    print(\"i=\",i)\n",
    "    print(\"HI\")\n",
    "print(\"ended\")\n"
   ]
  },
  {
   "cell_type": "code",
   "execution_count": 13,
   "id": "21b67e7f",
   "metadata": {},
   "outputs": [
    {
     "name": "stdout",
     "output_type": "stream",
     "text": [
      "started\n",
      "result= <generator object fun at 0x0000018CE4D287C0>\n",
      "1\n",
      "i= 10\n",
      "HI\n",
      "2\n",
      "i= 20\n",
      "HI\n",
      "3\n",
      "i= 30\n",
      "HI\n",
      "ended\n"
     ]
    }
   ],
   "source": [
    "print(\"started\")\n",
    "def fun():\n",
    "    print(\"1\")\n",
    "    yield 10\n",
    "    print(\"2\")\n",
    "    yield 20\n",
    "    print(\"3\")\n",
    "    yield 30\n",
    "res=fun()\n",
    "print(\"result=\", res)\n",
    "for i in res:#next(res)\n",
    "    print(\"i=\",i)\n",
    "    print(\"HI\")\n",
    "print(\"ended\")\n"
   ]
  },
  {
   "cell_type": "code",
   "execution_count": 14,
   "id": "e20b9761",
   "metadata": {},
   "outputs": [
    {
     "name": "stdout",
     "output_type": "stream",
     "text": [
      "started\n",
      "result= <generator object fun at 0x0000018CE59CA200>\n",
      "1\n",
      "i= 10\n",
      "HI\n",
      "2\n",
      "i= 20\n",
      "HI\n",
      "3\n",
      "i= 30\n",
      "HI\n",
      "SECOND TIME ITERATION\n",
      "ended\n"
     ]
    }
   ],
   "source": [
    "print(\"started\")\n",
    "def fun():\n",
    "    print(\"1\")\n",
    "    yield 10\n",
    "    print(\"2\")\n",
    "    yield 20\n",
    "    print(\"3\")\n",
    "    yield 30\n",
    "res=fun()\n",
    "print(\"result=\", res)\n",
    "for i in res:#next(res)\n",
    "    print(\"i=\",i)\n",
    "    print(\"HI\")\n",
    "print(\"SECOND TIME ITERATION\")\n",
    "for i in res:\n",
    "    print(\"i=\",i)\n",
    "    print(\"HI\")\n",
    "print(\"ended\")\n"
   ]
  },
  {
   "cell_type": "code",
   "execution_count": 15,
   "id": "c90a1d2d",
   "metadata": {},
   "outputs": [
    {
     "name": "stdout",
     "output_type": "stream",
     "text": [
      "started\n",
      "result= <generator object fun at 0x0000018CE4D287C0>\n",
      "1\n",
      "i= 10\n",
      "HI\n",
      "2\n",
      "i= 20\n",
      "HI\n",
      "3\n",
      "i= 30\n",
      "HI\n",
      "SECOND TIME ITERATION\n",
      "1\n",
      "i= 10\n",
      "HI\n",
      "2\n",
      "i= 20\n",
      "HI\n",
      "3\n",
      "i= 30\n",
      "HI\n",
      "ended\n"
     ]
    }
   ],
   "source": [
    "print(\"started\")\n",
    "def fun():\n",
    "    print(\"1\")\n",
    "    yield 10\n",
    "    print(\"2\")\n",
    "    yield 20\n",
    "    print(\"3\")\n",
    "    yield 30\n",
    "res=fun()\n",
    "print(\"result=\", res)\n",
    "for i in res:#next(res)\n",
    "    print(\"i=\",i)\n",
    "    print(\"HI\")\n",
    "res=fun()\n",
    "print(\"SECOND TIME ITERATION\")\n",
    "for i in res:\n",
    "    print(\"i=\",i)\n",
    "    print(\"HI\")\n",
    "print(\"ended\")\n"
   ]
  },
  {
   "cell_type": "code",
   "execution_count": 16,
   "id": "44dc37c0",
   "metadata": {},
   "outputs": [
    {
     "name": "stdout",
     "output_type": "stream",
     "text": [
      "result= <function fun at 0x0000018CE4E4DB20>\n"
     ]
    }
   ],
   "source": [
    "def fun():# stack: fun reference heap: function object, the fun reference will reffer the function object.\n",
    "    print(\"hello\")\n",
    "    return 20\n",
    "res=fun # function reference\n",
    "print(\"result=\",res)"
   ]
  },
  {
   "cell_type": "code",
   "execution_count": null,
   "id": "4d37b87f",
   "metadata": {},
   "outputs": [],
   "source": [
    "def fun():# stack: fun reference heap: function object, the fun reference will reffer the function object.\n",
    "    print(\"hello\")\n",
    "    return 20\n",
    "res=fun # function reference\n",
    "print(\"result=\",res)\n",
    "r1=res() # function call\n",
    "print(\"r1=\",r1)"
   ]
  }
 ],
 "metadata": {
  "kernelspec": {
   "display_name": "Python 3 (ipykernel)",
   "language": "python",
   "name": "python3"
  },
  "language_info": {
   "codemirror_mode": {
    "name": "ipython",
    "version": 3
   },
   "file_extension": ".py",
   "mimetype": "text/x-python",
   "name": "python",
   "nbconvert_exporter": "python",
   "pygments_lexer": "ipython3",
   "version": "3.11.3"
  }
 },
 "nbformat": 4,
 "nbformat_minor": 5
}
