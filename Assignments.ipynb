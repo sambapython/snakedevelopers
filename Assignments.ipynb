{
 "cells": [
  {
   "cell_type": "code",
   "execution_count": 1,
   "id": "0d49cc6f",
   "metadata": {},
   "outputs": [
    {
     "name": "stdout",
     "output_type": "stream",
     "text": [
      "5.0\n"
     ]
    }
   ],
   "source": [
    "x1=\"1\"#input(\"Enter number1:\")\n",
    "x2=\"2\" #input(\"Enter number2:\")\n",
    "x3=\"3\" #input(\"Enter number3:\")\n",
    "x4=\"4\" #input(\"Enter number4:\")\n",
    "x1=float(x1)\n",
    "x2=float(x2)\n",
    "x3=float(x3)\n",
    "x4=float(x4)\n",
    "print(x1+x2**2)"
   ]
  },
  {
   "cell_type": "code",
   "execution_count": 2,
   "id": "ee78c5ab",
   "metadata": {},
   "outputs": [
    {
     "data": {
      "text/plain": [
       "5"
      ]
     },
     "execution_count": 2,
     "metadata": {},
     "output_type": "execute_result"
    }
   ],
   "source": [
    "1+2**2"
   ]
  },
  {
   "cell_type": "code",
   "execution_count": 3,
   "id": "3b565598",
   "metadata": {},
   "outputs": [
    {
     "data": {
      "text/plain": [
       "9"
      ]
     },
     "execution_count": 3,
     "metadata": {},
     "output_type": "execute_result"
    }
   ],
   "source": [
    "(1+2)**2"
   ]
  },
  {
   "cell_type": "code",
   "execution_count": 4,
   "id": "927ecaf7",
   "metadata": {},
   "outputs": [
    {
     "name": "stdout",
     "output_type": "stream",
     "text": [
      "9.0\n"
     ]
    }
   ],
   "source": [
    "x1=\"1\"#input(\"Enter number1:\")\n",
    "x2=\"2\" #input(\"Enter number2:\")\n",
    "x3=\"3\" #input(\"Enter number3:\")\n",
    "x4=\"4\" #input(\"Enter number4:\")\n",
    "x1=float(x1)\n",
    "x2=float(x2)\n",
    "x3=float(x3)\n",
    "x4=float(x4)\n",
    "print((x1+x2)**2)"
   ]
  },
  {
   "cell_type": "code",
   "execution_count": 5,
   "id": "92e08d9a",
   "metadata": {},
   "outputs": [
    {
     "name": "stdout",
     "output_type": "stream",
     "text": [
      "9.0\n",
      "343.0\n"
     ]
    }
   ],
   "source": [
    "x1=\"1\"#input(\"Enter number1:\")\n",
    "x2=\"2\" #input(\"Enter number2:\")\n",
    "x3=\"3\" #input(\"Enter number3:\")\n",
    "x4=\"4\" #input(\"Enter number4:\")\n",
    "x1=float(x1)\n",
    "x2=float(x2)\n",
    "x3=float(x3)\n",
    "x4=float(x4)\n",
    "print((x1+x2)**2)\n",
    "print((x3+x4)**3)"
   ]
  },
  {
   "cell_type": "code",
   "execution_count": 6,
   "id": "09f86b0f",
   "metadata": {},
   "outputs": [
    {
     "name": "stdout",
     "output_type": "stream",
     "text": [
      "9.0\n",
      "343.0\n",
      "2.5\n"
     ]
    }
   ],
   "source": [
    "x1=\"1\"#input(\"Enter number1:\")\n",
    "x2=\"2\" #input(\"Enter number2:\")\n",
    "x3=\"3\" #input(\"Enter number3:\")\n",
    "x4=\"4\" #input(\"Enter number4:\")\n",
    "x1=float(x1)\n",
    "x2=float(x2)\n",
    "x3=float(x3)\n",
    "x4=float(x4)\n",
    "print((x1+x2)**2)\n",
    "print((x3+x4)**3)\n",
    "n=4\n",
    "x_bar = (x1+x2+x3+x4)/4\n",
    "print(x_bar)"
   ]
  },
  {
   "cell_type": "code",
   "execution_count": 7,
   "id": "ca410b48",
   "metadata": {},
   "outputs": [
    {
     "name": "stdout",
     "output_type": "stream",
     "text": [
      "9.0\n",
      "343.0\n",
      "1.6666666666666667\n"
     ]
    }
   ],
   "source": [
    "x1=\"1\"#input(\"Enter number1:\")\n",
    "x2=\"2\" #input(\"Enter number2:\")\n",
    "x3=\"3\" #input(\"Enter number3:\")\n",
    "x4=\"4\" #input(\"Enter number4:\")\n",
    "x1=float(x1)\n",
    "x2=float(x2)\n",
    "x3=float(x3)\n",
    "x4=float(x4)\n",
    "print((x1+x2)**2)\n",
    "print((x3+x4)**3)\n",
    "n=4\n",
    "x_bar = (x1+x2+x3+x4)/4\n",
    "variance=((x1-x_bar)**2+(x2-x_bar)**2+(x3-x_bar)**2+(x4-x_bar)**2)/(n-1)\n",
    "print(variance)"
   ]
  },
  {
   "cell_type": "code",
   "execution_count": 8,
   "id": "48c91ec9",
   "metadata": {},
   "outputs": [
    {
     "name": "stdout",
     "output_type": "stream",
     "text": [
      "9.0\n",
      "343.0\n",
      "1.6666666666666667\n",
      "1.2909944487358056\n"
     ]
    }
   ],
   "source": [
    "x1=\"1\"#input(\"Enter number1:\")\n",
    "x2=\"2\" #input(\"Enter number2:\")\n",
    "x3=\"3\" #input(\"Enter number3:\")\n",
    "x4=\"4\" #input(\"Enter number4:\")\n",
    "x1=float(x1)\n",
    "x2=float(x2)\n",
    "x3=float(x3)\n",
    "x4=float(x4)\n",
    "print((x1+x2)**2)\n",
    "print((x3+x4)**3)\n",
    "n=4\n",
    "x_bar = (x1+x2+x3+x4)/4\n",
    "variance=((x1-x_bar)**2+(x2-x_bar)**2+(x3-x_bar)**2+(x4-x_bar)**2)/(n-1)\n",
    "print(variance)\n",
    "std=variance**0.5\n",
    "print(std)"
   ]
  },
  {
   "cell_type": "code",
   "execution_count": 9,
   "id": "dcd1f903",
   "metadata": {},
   "outputs": [
    {
     "name": "stdout",
     "output_type": "stream",
     "text": [
      "9.0\n",
      "343.0\n",
      "1.6666666666666667\n",
      "1.2909944487358056\n",
      "12.345\n"
     ]
    }
   ],
   "source": [
    "x1=\"1\"#input(\"Enter number1:\")\n",
    "x2=\"2\" #input(\"Enter number2:\")\n",
    "x3=\"3\" #input(\"Enter number3:\")\n",
    "x4=\"4\" #input(\"Enter number4:\")\n",
    "x1=float(x1)\n",
    "x2=float(x2)\n",
    "x3=float(x3)\n",
    "x4=float(x4)\n",
    "print((x1+x2)**2)\n",
    "print((x3+x4)**3)\n",
    "n=4\n",
    "x_bar = (x1+x2+x3+x4)/4\n",
    "variance=((x1-x_bar)**2+(x2-x_bar)**2+(x3-x_bar)**2+(x4-x_bar)**2)/(n-1)\n",
    "print(variance)\n",
    "std=variance**0.5\n",
    "print(std)\n",
    "m=1.23\n",
    "b=0.045\n",
    "y=m*(x1+x2+x3+x4)+b\n",
    "print(y)"
   ]
  },
  {
   "cell_type": "code",
   "execution_count": 10,
   "id": "ec7ec06a",
   "metadata": {},
   "outputs": [
    {
     "name": "stdout",
     "output_type": "stream",
     "text": [
      "9.0\n",
      "343.0\n",
      "1.6666666666666667\n",
      "1.2909944487358056\n",
      "12.345\n",
      "10.0\n"
     ]
    }
   ],
   "source": [
    "x1=\"1\"#input(\"Enter number1:\")\n",
    "x2=\"2\" #input(\"Enter number2:\")\n",
    "x3=\"3\" #input(\"Enter number3:\")\n",
    "x4=\"4\" #input(\"Enter number4:\")\n",
    "x1=float(x1)\n",
    "x2=float(x2)\n",
    "x3=float(x3)\n",
    "x4=float(x4)\n",
    "print((x1+x2)**2)\n",
    "print((x3+x4)**3)\n",
    "n=4\n",
    "x_bar = (x1+x2+x3+x4)/4\n",
    "variance=((x1-x_bar)**2+(x2-x_bar)**2+(x3-x_bar)**2+(x4-x_bar)**2)/(n-1)\n",
    "print(variance)\n",
    "std=variance**0.5\n",
    "print(std)\n",
    "m=1.23\n",
    "b=0.045\n",
    "y=m*(x1+x2+x3+x4)+b\n",
    "print(y)\n",
    "print(x1+x2+x3+x4)"
   ]
  },
  {
   "cell_type": "code",
   "execution_count": null,
   "id": "3bb241f9",
   "metadata": {},
   "outputs": [],
   "source": [
    "\"\"\"\n",
    "1.Take the input from the user for(Total number of people,Number of seats for bus. Based on two inputs\n",
    "Decide how many number of buses required\n",
    "\"\"\"\n",
    "# this is an assignment for"
   ]
  }
 ],
 "metadata": {
  "kernelspec": {
   "display_name": "Python 3 (ipykernel)",
   "language": "python",
   "name": "python3"
  },
  "language_info": {
   "codemirror_mode": {
    "name": "ipython",
    "version": 3
   },
   "file_extension": ".py",
   "mimetype": "text/x-python",
   "name": "python",
   "nbconvert_exporter": "python",
   "pygments_lexer": "ipython3",
   "version": "3.11.3"
  }
 },
 "nbformat": 4,
 "nbformat_minor": 5
}
